{
 "cells": [
  {
   "cell_type": "markdown",
   "metadata": {
    "id": "OsD2CU_xIdba"
   },
   "source": [
    "# Домашнее задание 1\n",
    "\n",
    "Советуем начинать заранее - ДЗ в первую очередь практика для вас самих. Мы готовы подсказать и оказать консультацию по любому из данных номеров. Наша цель - дать вам освоиться с пройденными темами и дать вам \"набить руку\".\n",
    "\n",
    "**Внимание! Работа проверяется на антиплагиат.** Антиплагиат не принимает во внимание названия переменных, комментарии и пояснения, а отслеживает структуру кода, поэтому не испытывайте судьбу и не пытайтесь его обмануть (в любом случае - зачем это вам)\n",
    "\n",
    "$$Оценка = \\frac{процент\\ решенных\\ задач}{10}$$"
   ]
  },
  {
   "cell_type": "markdown",
   "metadata": {
    "id": "zyL4Jd8FEH6-"
   },
   "source": [
    "**Задание 1:** Напишите программу, которая ищет факториал числа N. \n",
    "\n",
    "Факториал числа - произведение всех чисел от 1 до N"
   ]
  },
  {
   "cell_type": "code",
   "execution_count": 1,
   "metadata": {
    "colab": {
     "base_uri": "https://localhost:8080/"
    },
    "executionInfo": {
     "elapsed": 4260,
     "status": "ok",
     "timestamp": 1677442045467,
     "user": {
      "displayName": "Виктория Калинина",
      "userId": "02266086132909563913"
     },
     "user_tz": -180
    },
    "id": "q3kkAmxKGY43",
    "outputId": "56457fe6-5535-4f94-9142-f1a5cc19fe59"
   },
   "outputs": [
    {
     "name": "stdout",
     "output_type": "stream",
     "text": [
      "6\n",
      "720\n"
     ]
    }
   ],
   "source": [
    "n = int(input())\n",
    " \n",
    "fact = 1\n",
    "\n",
    "while n > 1:\n",
    "    fact *= n\n",
    "    n -= 1\n",
    " #используем цикл, чтобы посчитать факториал числа\n",
    "print(fact)\n"
   ]
  },
  {
   "cell_type": "markdown",
   "metadata": {
    "id": "75jXQ1kmE3sm"
   },
   "source": [
    "**Задание 2:** Напишите программу, которая выводит Наибольший Общий Делитель (GCD) двух данных чисел используя цикл while и if-else условные операторы.\n",
    "\n",
    "Про НОД можно почитать на [википедии](https://ru.wikipedia.org/wiki/%D0%9D%D0%B0%D0%B8%D0%B1%D0%BE%D0%BB%D1%8C%D1%88%D0%B8%D0%B9_%D0%BE%D0%B1%D1%89%D0%B8%D0%B9_%D0%B4%D0%B5%D0%BB%D0%B8%D1%82%D0%B5%D0%BB%D1%8C). Для нахождения НОДа вам поможет Алгоритм Евклида\n",
    "\n",
    "![](https://younglinux.info/python/task/images/gcd.png)"
   ]
  },
  {
   "cell_type": "code",
   "execution_count": 5,
   "metadata": {
    "colab": {
     "base_uri": "https://localhost:8080/"
    },
    "executionInfo": {
     "elapsed": 5443,
     "status": "ok",
     "timestamp": 1677442845936,
     "user": {
      "displayName": "Виктория Калинина",
      "userId": "02266086132909563913"
     },
     "user_tz": -180
    },
    "id": "YKwQbI5JGao7",
    "outputId": "f8ff2bab-e71f-4ca0-bc9e-e8e1bf9d44bc"
   },
   "outputs": [
    {
     "name": "stdout",
     "output_type": "stream",
     "text": [
      "5\n",
      "6\n",
      "1\n"
     ]
    }
   ],
   "source": [
    "a = int(input())\n",
    "b = int(input())\n",
    "\n",
    "#используем алгоритм Евклида\n",
    "while a != 0 and b != 0:\n",
    "    if a > b:\n",
    "        a = a % b\n",
    "    else:\n",
    "        b = b % a\n",
    "print(a+b)\n",
    "\n"
   ]
  },
  {
   "cell_type": "markdown",
   "metadata": {
    "id": "_DlKreaXGcux"
   },
   "source": [
    "**Задание 3:** Напишите программу, которая вычисляет сумму цифр в данном числе (вспомните про приведение типов `int()` и `str()`) используя цикл while и if-else условия\n"
   ]
  },
  {
   "cell_type": "markdown",
   "metadata": {
    "id": "RaC2VAZgGyEH"
   },
   "source": [
    "**Задание 4:** Напишите программу, которая выводит таблицу умножения используя вложенные циклы while"
   ]
  },
  {
   "cell_type": "code",
   "execution_count": 1,
   "metadata": {},
   "outputs": [
    {
     "name": "stdout",
     "output_type": "stream",
     "text": [
      "111\n",
      "3\n"
     ]
    }
   ],
   "source": [
    "a = (input())\n",
    "summa = 0\n",
    "i=0\n",
    "while i<len(a):\n",
    "    summa += int(a[i])\n",
    "    i+=1\n",
    "  \n",
    "\n",
    "print(summa)"
   ]
  },
  {
   "cell_type": "code",
   "execution_count": 1,
   "metadata": {
    "colab": {
     "base_uri": "https://localhost:8080/"
    },
    "executionInfo": {
     "elapsed": 405,
     "status": "ok",
     "timestamp": 1677445359562,
     "user": {
      "displayName": "Виктория Калинина",
      "userId": "02266086132909563913"
     },
     "user_tz": -180
    },
    "id": "RNn08SxeHetM",
    "outputId": "1ec10f60-2d08-4063-b81f-daa85df96166"
   },
   "outputs": [
    {
     "name": "stdout",
     "output_type": "stream",
     "text": [
      "0 * 0 = 0\n",
      "0 * 1 = 0\n",
      "0 * 2 = 0\n",
      "0 * 3 = 0\n",
      "0 * 4 = 0\n",
      "0 * 5 = 0\n",
      "0 * 6 = 0\n",
      "0 * 7 = 0\n",
      "0 * 8 = 0\n",
      "0 * 9 = 0\n",
      "0 * 10 = 0\n",
      "\n",
      "1 * 0 = 0\n",
      "1 * 1 = 1\n",
      "1 * 2 = 2\n",
      "1 * 3 = 3\n",
      "1 * 4 = 4\n",
      "1 * 5 = 5\n",
      "1 * 6 = 6\n",
      "1 * 7 = 7\n",
      "1 * 8 = 8\n",
      "1 * 9 = 9\n",
      "1 * 10 = 10\n",
      "\n",
      "2 * 0 = 0\n",
      "2 * 1 = 2\n",
      "2 * 2 = 4\n",
      "2 * 3 = 6\n",
      "2 * 4 = 8\n",
      "2 * 5 = 10\n",
      "2 * 6 = 12\n",
      "2 * 7 = 14\n",
      "2 * 8 = 16\n",
      "2 * 9 = 18\n",
      "2 * 10 = 20\n",
      "\n",
      "3 * 0 = 0\n",
      "3 * 1 = 3\n",
      "3 * 2 = 6\n",
      "3 * 3 = 9\n",
      "3 * 4 = 12\n",
      "3 * 5 = 15\n",
      "3 * 6 = 18\n",
      "3 * 7 = 21\n",
      "3 * 8 = 24\n",
      "3 * 9 = 27\n",
      "3 * 10 = 30\n",
      "\n",
      "4 * 0 = 0\n",
      "4 * 1 = 4\n",
      "4 * 2 = 8\n",
      "4 * 3 = 12\n",
      "4 * 4 = 16\n",
      "4 * 5 = 20\n",
      "4 * 6 = 24\n",
      "4 * 7 = 28\n",
      "4 * 8 = 32\n",
      "4 * 9 = 36\n",
      "4 * 10 = 40\n",
      "\n",
      "5 * 0 = 0\n",
      "5 * 1 = 5\n",
      "5 * 2 = 10\n",
      "5 * 3 = 15\n",
      "5 * 4 = 20\n",
      "5 * 5 = 25\n",
      "5 * 6 = 30\n",
      "5 * 7 = 35\n",
      "5 * 8 = 40\n",
      "5 * 9 = 45\n",
      "5 * 10 = 50\n",
      "\n",
      "6 * 0 = 0\n",
      "6 * 1 = 6\n",
      "6 * 2 = 12\n",
      "6 * 3 = 18\n",
      "6 * 4 = 24\n",
      "6 * 5 = 30\n",
      "6 * 6 = 36\n",
      "6 * 7 = 42\n",
      "6 * 8 = 48\n",
      "6 * 9 = 54\n",
      "6 * 10 = 60\n",
      "\n",
      "7 * 0 = 0\n",
      "7 * 1 = 7\n",
      "7 * 2 = 14\n",
      "7 * 3 = 21\n",
      "7 * 4 = 28\n",
      "7 * 5 = 35\n",
      "7 * 6 = 42\n",
      "7 * 7 = 49\n",
      "7 * 8 = 56\n",
      "7 * 9 = 63\n",
      "7 * 10 = 70\n",
      "\n",
      "8 * 0 = 0\n",
      "8 * 1 = 8\n",
      "8 * 2 = 16\n",
      "8 * 3 = 24\n",
      "8 * 4 = 32\n",
      "8 * 5 = 40\n",
      "8 * 6 = 48\n",
      "8 * 7 = 56\n",
      "8 * 8 = 64\n",
      "8 * 9 = 72\n",
      "8 * 10 = 80\n",
      "\n",
      "9 * 0 = 0\n",
      "9 * 1 = 9\n",
      "9 * 2 = 18\n",
      "9 * 3 = 27\n",
      "9 * 4 = 36\n",
      "9 * 5 = 45\n",
      "9 * 6 = 54\n",
      "9 * 7 = 63\n",
      "9 * 8 = 72\n",
      "9 * 9 = 81\n",
      "9 * 10 = 90\n",
      "\n",
      "10 * 0 = 0\n",
      "10 * 1 = 10\n",
      "10 * 2 = 20\n",
      "10 * 3 = 30\n",
      "10 * 4 = 40\n",
      "10 * 5 = 50\n",
      "10 * 6 = 60\n",
      "10 * 7 = 70\n",
      "10 * 8 = 80\n",
      "10 * 9 = 90\n",
      "10 * 10 = 100\n",
      "\n"
     ]
    }
   ],
   "source": [
    "\n",
    "i = 0\n",
    "while i <= 10:\n",
    "    j = 0\n",
    "    while j<= 10:\n",
    "        print(i, '*', j, '=', i * j)\n",
    "        j +=1\n",
    "    i+=1\n",
    "    print()"
   ]
  },
  {
   "cell_type": "markdown",
   "metadata": {
    "id": "yYVhoYBtHeMJ"
   },
   "source": [
    "**Задание 5:** Напишите программу, которая конвертирует температуру из Цельсий в Фаренгейты используя переменные и if-else условия."
   ]
  },
  {
   "cell_type": "code",
   "execution_count": 38,
   "metadata": {
    "colab": {
     "base_uri": "https://localhost:8080/"
    },
    "executionInfo": {
     "elapsed": 13485,
     "status": "ok",
     "timestamp": 1677445596445,
     "user": {
      "displayName": "Виктория Калинина",
      "userId": "02266086132909563913"
     },
     "user_tz": -180
    },
    "id": "X0vdisXyH1Fh",
    "outputId": "7bf894b5-3d5b-4523-9e4f-bc72ab11641e"
   },
   "outputs": [
    {
     "name": "stdout",
     "output_type": "stream",
     "text": [
      "Введите темпарутуру в градусах Цельсия\n",
      "1\n",
      "Ваша температура в Фаренгейтах: 33.8\n"
     ]
    }
   ],
   "source": [
    "print('Введите темпарутуру в градусах Цельсия')\n",
    "a = int(input())\n",
    "print('Ваша температура в Фаренгейтах:', 9/5*a+32)"
   ]
  },
  {
   "cell_type": "markdown",
   "metadata": {
    "id": "-iUSfqSCICSn"
   },
   "source": [
    "**Задание 6:** Напишите программу, которая выводит данную строку задом наперед (реализуйте при помощи цикла while и переменных!). Например, для \"string1\" выведите \"1gnirts\".\n"
   ]
  },
  {
   "cell_type": "code",
   "execution_count": 73,
   "metadata": {
    "colab": {
     "base_uri": "https://localhost:8080/"
    },
    "executionInfo": {
     "elapsed": 4443,
     "status": "ok",
     "timestamp": 1677448566078,
     "user": {
      "displayName": "Виктория Калинина",
      "userId": "02266086132909563913"
     },
     "user_tz": -180
    },
    "id": "j-aXQEh5IKgJ",
    "outputId": "5ed23248-8879-4100-d588-be74fa540349"
   },
   "outputs": [
    {
     "name": "stdout",
     "output_type": "stream",
     "text": [
      "Введите строку, которая магическим образом реверснется:\n",
      "опаэ\n",
      "эапо\n"
     ]
    }
   ],
   "source": [
    "print('Введите строку, которая магическим образом реверснется:')\n",
    "string = input()\n",
    "ans = ''\n",
    "i=len(string)-1\n",
    "while i>=0:\n",
    "    ans+=string[i]\n",
    "    i-=1\n",
    "print(ans)"
   ]
  },
  {
   "cell_type": "markdown",
   "metadata": {
    "id": "z-6_H5gsKe0Y"
   },
   "source": [
    "**Задание 7:** \n",
    "Заведите переменную `name`, которая будет хранить ваше имя, и `age`, которая будет хранить ваш возраст.\n",
    "\n",
    "Выведите на экран строку формата `Привет, меня зовут <имя>, мне <возраст> лет.`."
   ]
  },
  {
   "cell_type": "code",
   "execution_count": 45,
   "metadata": {
    "colab": {
     "base_uri": "https://localhost:8080/"
    },
    "executionInfo": {
     "elapsed": 258,
     "status": "ok",
     "timestamp": 1677446785223,
     "user": {
      "displayName": "Виктория Калинина",
      "userId": "02266086132909563913"
     },
     "user_tz": -180
    },
    "id": "r5hK-iThKrV6",
    "outputId": "e4d687d1-9f3e-4caf-b695-e81f63885d94"
   },
   "outputs": [
    {
     "name": "stdout",
     "output_type": "stream",
     "text": [
      "Привет, меня зовут Вика, мне 18 лет.\n"
     ]
    }
   ],
   "source": [
    "name = 'Вика'\n",
    "age = '18'\n",
    "print('Привет, меня зовут {}, мне {} лет.'.format(name, age))"
   ]
  },
  {
   "cell_type": "markdown",
   "metadata": {
    "id": "aFRyyoCBKh0N"
   },
   "source": [
    "**Задание 8:** \n",
    "#### 8.1 \n",
    "Напишите программу, которая принимает на вход от пользователя строку `st` и печатает строку `st` `k` раз, где `k` - ваш номер по списку в ведомости.\n",
    "\n",
    "#### 8.2 \n",
    "Напишите программу, которая принимает на вход от пользователя строку `st` и число `n`, а затем печатает строку `st` `n` раз."
   ]
  },
  {
   "cell_type": "code",
   "execution_count": 49,
   "metadata": {
    "colab": {
     "base_uri": "https://localhost:8080/"
    },
    "executionInfo": {
     "elapsed": 8746,
     "status": "ok",
     "timestamp": 1677447223011,
     "user": {
      "displayName": "Виктория Калинина",
      "userId": "02266086132909563913"
     },
     "user_tz": -180
    },
    "id": "2_Su8H0hKsmD",
    "outputId": "1ebdf6ce-2b4d-4c46-b2a6-b9cf7b7e4e58"
   },
   "outputs": [
    {
     "name": "stdout",
     "output_type": "stream",
     "text": [
      "Введите строку\n",
      "python-top\n",
      "python-toppython-toppython-toppython-toppython-toppython-toppython-toppython-top\n"
     ]
    }
   ],
   "source": [
    "#8.1\n",
    "print('Введите строку')\n",
    "st = str(input())\n",
    "k = 8\n",
    "print(st*k)"
   ]
  },
  {
   "cell_type": "code",
   "execution_count": 50,
   "metadata": {
    "colab": {
     "base_uri": "https://localhost:8080/"
    },
    "executionInfo": {
     "elapsed": 20819,
     "status": "ok",
     "timestamp": 1677447243805,
     "user": {
      "displayName": "Виктория Калинина",
      "userId": "02266086132909563913"
     },
     "user_tz": -180
    },
    "id": "NBSMf_H6obCC",
    "outputId": "1b525b59-a94b-44b2-c427-62abea0289af"
   },
   "outputs": [
    {
     "name": "stdout",
     "output_type": "stream",
     "text": [
      "Введите строку:\n",
      "7\n",
      "Введите число повторений строки:\n",
      "7\n",
      "7777777\n"
     ]
    }
   ],
   "source": [
    "#8.2\n",
    "print('Введите строку:')\n",
    "st = str(input())\n",
    "print('Введите число повторений строки:')\n",
    "n = int(input())\n",
    "print(n*st)"
   ]
  },
  {
   "cell_type": "markdown",
   "metadata": {
    "id": "uO6qngViKvLO"
   },
   "source": [
    "**Задание 9:** \n",
    "Пусть `k` - ваш номер в ведомости.\n",
    "\n",
    "Программа принимает на вход целое число `n`. Если это число меньше, чем `k`, программа должна вывести \"Ваше число меньше `k`\" (вместо `k` должно быть указано значение `k`). Если это число больше, чем `k * 10`, программа должна вывести \"Ваше число больше `k * 10`\" (вместо `k * 10` должно быть указано значение `k * 10`). Если никакое из условий выше не выполнено, программа должна вывести \"Ваше число от `k` до `k * 10`.\n",
    "\n",
    "Например, если `k = 40`:\n",
    "\n",
    "**Значение n** </p>\n",
    "12 </p>\n",
    "**Вывод программы**</p>\n",
    "Ваше число меньше 40 </p>\n",
    "</p>\n",
    "</p>\n",
    "\n",
    "\n",
    "**Значение n**  </p>\n",
    "56 </p>\n",
    "**Вывод программы**</p>\n",
    "Ваше число от 40 до 400 </p>\n",
    "</p>\n",
    "</p>\n",
    "\n",
    "\n",
    "**Значение n**  </p>\n",
    "878 </p>\n",
    "**Вывод программы** </p>\n",
    "Ваше число больше 400 </p>"
   ]
  },
  {
   "cell_type": "code",
   "execution_count": 56,
   "metadata": {
    "colab": {
     "base_uri": "https://localhost:8080/"
    },
    "executionInfo": {
     "elapsed": 2259,
     "status": "ok",
     "timestamp": 1677447632687,
     "user": {
      "displayName": "Виктория Калинина",
      "userId": "02266086132909563913"
     },
     "user_tz": -180
    },
    "id": "kGonJpt8LX52",
    "outputId": "34ad83c0-05b7-4b13-f7b7-92f3d998e23f"
   },
   "outputs": [
    {
     "name": "stdout",
     "output_type": "stream",
     "text": [
      "Введите число:\n",
      "6\n",
      "Ваше число меньше 8\n"
     ]
    }
   ],
   "source": [
    "k = 8\n",
    "print('Введите число:')\n",
    "n = int(input())\n",
    "if n<k:\n",
    "  print('Ваше число меньше', k)\n",
    "elif n>k*10:\n",
    "  print('Ваше число больше', k*10)\n",
    "else:\n",
    "  print('Ваше число от',k, 'до', k*10)"
   ]
  },
  {
   "cell_type": "markdown",
   "metadata": {
    "id": "RuFVLYm1K-60"
   },
   "source": [
    "**Задание 10:** \n",
    "\n",
    "Воспользуйтесь средствами языка python, чтобы напечатать узор из звезд в виде треугольника. Например, такого: \n",
    "\n",
    "   ##   *  \n",
    "  ##  *   *  \n",
    " ## *   *   *  \n"
   ]
  },
  {
   "cell_type": "code",
   "execution_count": 61,
   "metadata": {
    "colab": {
     "base_uri": "https://localhost:8080/"
    },
    "executionInfo": {
     "elapsed": 243,
     "status": "ok",
     "timestamp": 1677447758982,
     "user": {
      "displayName": "Виктория Калинина",
      "userId": "02266086132909563913"
     },
     "user_tz": -180
    },
    "id": "MNbE0umpLZB5",
    "outputId": "14042f43-134b-4cc0-a856-396b8530767b"
   },
   "outputs": [
    {
     "name": "stdout",
     "output_type": "stream",
     "text": [
      "  * \n",
      " ***\n",
      "*****\n"
     ]
    }
   ],
   "source": [
    "print('  * ')\n",
    "print(' ***')\n",
    "print('*****')"
   ]
  },
  {
   "cell_type": "markdown",
   "metadata": {
    "id": "7MofcuEgLGii"
   },
   "source": [
    "**Задание 11:** \n",
    "Пользователь вводит элементы последовательности. У него запрашивают числа до тех пор, пока он не введет число 0.\n",
    "\n",
    "Программа должна вывести количество чисел, которые делятся либо на 3, либо на 5."
   ]
  },
  {
   "cell_type": "code",
   "execution_count": 87,
   "metadata": {
    "colab": {
     "base_uri": "https://localhost:8080/"
    },
    "executionInfo": {
     "elapsed": 12813,
     "status": "ok",
     "timestamp": 1677449189296,
     "user": {
      "displayName": "Виктория Калинина",
      "userId": "02266086132909563913"
     },
     "user_tz": -180
    },
    "id": "xZCS3GsDLbY_",
    "outputId": "82e284ed-731f-486c-b1ce-2d89da28fa91"
   },
   "outputs": [
    {
     "name": "stdout",
     "output_type": "stream",
     "text": [
      "Введите число:\n",
      "3\n",
      "Еще число давай:\n",
      "5\n",
      "Еще число давай:\n",
      "7\n",
      "Еще число давай:\n",
      "0\n",
      "Всего чисел, которые делились на 3 или на 5 было: 2\n"
     ]
    }
   ],
   "source": [
    "summochka = 0\n",
    "print('Введите число:')\n",
    "a = int(input())\n",
    "while a != 0:\n",
    "  if a%3 == 0 or a%5 == 0:\n",
    "    summochka += 1\n",
    "  print('Еще число давай:')\n",
    "  a = int(input())\n",
    "\n",
    "print('Всего чисел, которые делились на 3 или на 5 было:', summochka)"
   ]
  },
  {
   "cell_type": "markdown",
   "metadata": {
    "id": "arbViG2PLO8s"
   },
   "source": [
    "**Задание 12:** \n",
    "Пользователь вводит число N. Программа должна вывести сумму квадратов всех нечетных чисел от 1 до N."
   ]
  },
  {
   "cell_type": "code",
   "execution_count": 92,
   "metadata": {
    "colab": {
     "base_uri": "https://localhost:8080/"
    },
    "executionInfo": {
     "elapsed": 5369,
     "status": "ok",
     "timestamp": 1677449681904,
     "user": {
      "displayName": "Виктория Калинина",
      "userId": "02266086132909563913"
     },
     "user_tz": -180
    },
    "id": "MYLmX3RXLcKt",
    "outputId": "bf6106ab-00a4-4f9d-dff9-9f3a8431030f"
   },
   "outputs": [
    {
     "name": "stdout",
     "output_type": "stream",
     "text": [
      "Введите число:\n",
      "4\n",
      "10\n"
     ]
    }
   ],
   "source": [
    "print('Введите число:')\n",
    "N = int(input())\n",
    "i = 1\n",
    "summochka = 0\n",
    "while i<=N:\n",
    "  summochka += i**2\n",
    "  i +=2\n",
    "print(summochka)"
   ]
  }
 ],
 "metadata": {
  "colab": {
   "provenance": []
  },
  "kernelspec": {
   "display_name": "Python 3 (ipykernel)",
   "language": "python",
   "name": "python3"
  },
  "language_info": {
   "codemirror_mode": {
    "name": "ipython",
    "version": 3
   },
   "file_extension": ".py",
   "mimetype": "text/x-python",
   "name": "python",
   "nbconvert_exporter": "python",
   "pygments_lexer": "ipython3",
   "version": "3.9.13"
  }
 },
 "nbformat": 4,
 "nbformat_minor": 1
}
