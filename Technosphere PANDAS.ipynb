{
 "cells": [
  {
   "cell_type": "markdown",
   "id": "a87d5632",
   "metadata": {},
   "source": [
    "<b>PANDAS</b>"
   ]
  },
  {
   "cell_type": "code",
   "execution_count": 2,
   "id": "80e91f11",
   "metadata": {},
   "outputs": [
    {
     "data": {
      "text/plain": [
       "0     5\n",
       "1     6\n",
       "2     7\n",
       "3     8\n",
       "4     9\n",
       "5    10\n",
       "dtype: int64"
      ]
     },
     "execution_count": 2,
     "metadata": {},
     "output_type": "execute_result"
    }
   ],
   "source": [
    "import pandas as pd\n",
    "import numpy as np\n",
    "my_series = pd.Series([5,6,7,8,9,10])\n",
    "my_series"
   ]
  },
  {
   "cell_type": "code",
   "execution_count": 3,
   "id": "601c8d4c",
   "metadata": {},
   "outputs": [
    {
     "data": {
      "text/plain": [
       "RangeIndex(start=0, stop=6, step=1)"
      ]
     },
     "execution_count": 3,
     "metadata": {},
     "output_type": "execute_result"
    }
   ],
   "source": [
    "my_series.index"
   ]
  },
  {
   "cell_type": "code",
   "execution_count": 4,
   "id": "35e1eb58",
   "metadata": {},
   "outputs": [
    {
     "data": {
      "text/plain": [
       "array([ 5,  6,  7,  8,  9, 10], dtype=int64)"
      ]
     },
     "execution_count": 4,
     "metadata": {},
     "output_type": "execute_result"
    }
   ],
   "source": [
    "my_series.values"
   ]
  },
  {
   "cell_type": "code",
   "execution_count": 5,
   "id": "aaf9ab0b",
   "metadata": {},
   "outputs": [
    {
     "data": {
      "text/plain": [
       "a     5\n",
       "b     6\n",
       "c     7\n",
       "d     8\n",
       "e     9\n",
       "f    10\n",
       "dtype: int64"
      ]
     },
     "execution_count": 5,
     "metadata": {},
     "output_type": "execute_result"
    }
   ],
   "source": [
    "my_series2 = pd.Series([5,6,7,8,9,10], index=['a','b','c','d','e','f'])\n",
    "my_series2"
   ]
  },
  {
   "cell_type": "code",
   "execution_count": 6,
   "id": "1f583a7e",
   "metadata": {},
   "outputs": [
    {
     "data": {
      "text/plain": [
       "4    9\n",
       "dtype: int64"
      ]
     },
     "execution_count": 6,
     "metadata": {},
     "output_type": "execute_result"
    }
   ],
   "source": [
    "my_series[[4]]"
   ]
  },
  {
   "cell_type": "code",
   "execution_count": 7,
   "id": "1507d0f4",
   "metadata": {},
   "outputs": [
    {
     "data": {
      "text/plain": [
       "b    6\n",
       "dtype: int64"
      ]
     },
     "execution_count": 7,
     "metadata": {},
     "output_type": "execute_result"
    }
   ],
   "source": [
    "my_series2[['b']]"
   ]
  },
  {
   "cell_type": "code",
   "execution_count": 8,
   "id": "6fcf1c39",
   "metadata": {},
   "outputs": [
    {
     "data": {
      "text/plain": [
       "a    0\n",
       "b    6\n",
       "c    0\n",
       "d    8\n",
       "e    9\n",
       "f    0\n",
       "dtype: int64"
      ]
     },
     "execution_count": 8,
     "metadata": {},
     "output_type": "execute_result"
    }
   ],
   "source": [
    "my_series2[['a','c','f']]=0\n",
    "my_series2"
   ]
  },
  {
   "cell_type": "code",
   "execution_count": 9,
   "id": "0a57e646",
   "metadata": {},
   "outputs": [
    {
     "data": {
      "text/plain": [
       "b    6\n",
       "d    8\n",
       "e    9\n",
       "dtype: int64"
      ]
     },
     "execution_count": 9,
     "metadata": {},
     "output_type": "execute_result"
    }
   ],
   "source": [
    "my_series2[(my_series2>0)]"
   ]
  },
  {
   "cell_type": "code",
   "execution_count": 10,
   "id": "cd9d1293",
   "metadata": {},
   "outputs": [
    {
     "data": {
      "text/plain": [
       "a    5\n",
       "b    6\n",
       "c    7\n",
       "dtype: int64"
      ]
     },
     "execution_count": 10,
     "metadata": {},
     "output_type": "execute_result"
    }
   ],
   "source": [
    "my_series3 = pd.Series({'a':5,'b':6,'c':7})\n",
    "my_series3"
   ]
  },
  {
   "cell_type": "code",
   "execution_count": 11,
   "id": "61d50e9a",
   "metadata": {},
   "outputs": [
    {
     "data": {
      "text/plain": [
       "letters\n",
       "a    5\n",
       "b    6\n",
       "c    7\n",
       "Name: numbers, dtype: int64"
      ]
     },
     "execution_count": 11,
     "metadata": {},
     "output_type": "execute_result"
    }
   ],
   "source": [
    "#именование столбцов\n",
    "my_series3.name = \"numbers\"\n",
    "my_series3.index.name = \"letters\"\n",
    "my_series3"
   ]
  },
  {
   "cell_type": "markdown",
   "id": "af3552d6",
   "metadata": {},
   "source": [
    "<b>Pandas DataFrame</b>   \n",
    "типа таблица, столбцами выступают объекты Series"
   ]
  },
  {
   "cell_type": "code",
   "execution_count": 12,
   "id": "60923c74",
   "metadata": {},
   "outputs": [
    {
     "data": {
      "text/html": [
       "<div>\n",
       "<style scoped>\n",
       "    .dataframe tbody tr th:only-of-type {\n",
       "        vertical-align: middle;\n",
       "    }\n",
       "\n",
       "    .dataframe tbody tr th {\n",
       "        vertical-align: top;\n",
       "    }\n",
       "\n",
       "    .dataframe thead th {\n",
       "        text-align: right;\n",
       "    }\n",
       "</style>\n",
       "<table border=\"1\" class=\"dataframe\">\n",
       "  <thead>\n",
       "    <tr style=\"text-align: right;\">\n",
       "      <th></th>\n",
       "      <th>country</th>\n",
       "      <th>population</th>\n",
       "      <th>square</th>\n",
       "    </tr>\n",
       "  </thead>\n",
       "  <tbody>\n",
       "    <tr>\n",
       "      <th>0</th>\n",
       "      <td>Russia</td>\n",
       "      <td>147</td>\n",
       "      <td>1234556</td>\n",
       "    </tr>\n",
       "    <tr>\n",
       "      <th>1</th>\n",
       "      <td>France</td>\n",
       "      <td>56</td>\n",
       "      <td>2356443</td>\n",
       "    </tr>\n",
       "    <tr>\n",
       "      <th>2</th>\n",
       "      <td>USA</td>\n",
       "      <td>345</td>\n",
       "      <td>123748</td>\n",
       "    </tr>\n",
       "  </tbody>\n",
       "</table>\n",
       "</div>"
      ],
      "text/plain": [
       "  country  population   square\n",
       "0  Russia         147  1234556\n",
       "1  France          56  2356443\n",
       "2     USA         345   123748"
      ]
     },
     "execution_count": 12,
     "metadata": {},
     "output_type": "execute_result"
    }
   ],
   "source": [
    "df = pd.DataFrame({\"country\":[\"Russia\", \"France\", \"USA\"], \n",
    "                   \"population\":[147, 56, 345],\n",
    "                  \"square\":[1234556, 2356443, 123748]})\n",
    "df"
   ]
  },
  {
   "cell_type": "code",
   "execution_count": 13,
   "id": "8ff82c62",
   "metadata": {},
   "outputs": [
    {
     "data": {
      "text/plain": [
       "0    147\n",
       "1     56\n",
       "2    345\n",
       "Name: population, dtype: int64"
      ]
     },
     "execution_count": 13,
     "metadata": {},
     "output_type": "execute_result"
    }
   ],
   "source": [
    "df.population"
   ]
  },
  {
   "cell_type": "code",
   "execution_count": 14,
   "id": "2a89b4be",
   "metadata": {},
   "outputs": [
    {
     "data": {
      "text/plain": [
       "(pandas.core.frame.DataFrame, pandas.core.series.Series)"
      ]
     },
     "execution_count": 14,
     "metadata": {},
     "output_type": "execute_result"
    }
   ],
   "source": [
    "type(df), type(df.population)"
   ]
  },
  {
   "cell_type": "code",
   "execution_count": 15,
   "id": "089ec7fc",
   "metadata": {},
   "outputs": [
    {
     "data": {
      "text/html": [
       "<div>\n",
       "<style scoped>\n",
       "    .dataframe tbody tr th:only-of-type {\n",
       "        vertical-align: middle;\n",
       "    }\n",
       "\n",
       "    .dataframe tbody tr th {\n",
       "        vertical-align: top;\n",
       "    }\n",
       "\n",
       "    .dataframe thead th {\n",
       "        text-align: right;\n",
       "    }\n",
       "</style>\n",
       "<table border=\"1\" class=\"dataframe\">\n",
       "  <thead>\n",
       "    <tr style=\"text-align: right;\">\n",
       "      <th></th>\n",
       "      <th>country</th>\n",
       "      <th>population</th>\n",
       "      <th>square</th>\n",
       "    </tr>\n",
       "  </thead>\n",
       "  <tbody>\n",
       "    <tr>\n",
       "      <th>RU</th>\n",
       "      <td>Russia</td>\n",
       "      <td>147</td>\n",
       "      <td>1234556</td>\n",
       "    </tr>\n",
       "    <tr>\n",
       "      <th>FR</th>\n",
       "      <td>France</td>\n",
       "      <td>56</td>\n",
       "      <td>2356443</td>\n",
       "    </tr>\n",
       "    <tr>\n",
       "      <th>US</th>\n",
       "      <td>USA</td>\n",
       "      <td>345</td>\n",
       "      <td>123748</td>\n",
       "    </tr>\n",
       "  </tbody>\n",
       "</table>\n",
       "</div>"
      ],
      "text/plain": [
       "   country  population   square\n",
       "RU  Russia         147  1234556\n",
       "FR  France          56  2356443\n",
       "US     USA         345   123748"
      ]
     },
     "execution_count": 15,
     "metadata": {},
     "output_type": "execute_result"
    }
   ],
   "source": [
    "df.index= ['RU','FR','US']\n",
    "df"
   ]
  },
  {
   "cell_type": "markdown",
   "id": "7caffb47",
   "metadata": {},
   "source": [
    "<u><b>ИМПОРТ ДАННЫХ</b></u>"
   ]
  },
  {
   "cell_type": "code",
   "execution_count": 16,
   "id": "4c43f8ef",
   "metadata": {},
   "outputs": [
    {
     "data": {
      "text/plain": [
       "\"\\npd.read_csv('filename')\\npd.read_excel('filename')\\npd.read_sql(querty, connection_object)\\npd.read_table(filename)\\npd.read_json(json_string)\\npd.read_html(url)\\npd.read_clipboard()\\npd.DataFrame(dict)\\n\""
      ]
     },
     "execution_count": 16,
     "metadata": {},
     "output_type": "execute_result"
    }
   ],
   "source": [
    "'''\n",
    "pd.read_csv('filename')\n",
    "pd.read_excel('filename')\n",
    "pd.read_sql(querty, connection_object)\n",
    "pd.read_table(filename)\n",
    "pd.read_json(json_string)\n",
    "pd.read_html(url)\n",
    "pd.read_clipboard()\n",
    "pd.DataFrame(dict)\n",
    "'''"
   ]
  },
  {
   "cell_type": "code",
   "execution_count": 17,
   "id": "94ed517a",
   "metadata": {},
   "outputs": [
    {
     "data": {
      "text/html": [
       "<div>\n",
       "<style scoped>\n",
       "    .dataframe tbody tr th:only-of-type {\n",
       "        vertical-align: middle;\n",
       "    }\n",
       "\n",
       "    .dataframe tbody tr th {\n",
       "        vertical-align: top;\n",
       "    }\n",
       "\n",
       "    .dataframe thead th {\n",
       "        text-align: right;\n",
       "    }\n",
       "</style>\n",
       "<table border=\"1\" class=\"dataframe\">\n",
       "  <thead>\n",
       "    <tr style=\"text-align: right;\">\n",
       "      <th></th>\n",
       "      <th>year</th>\n",
       "      <th>industry_code_ANZSIC</th>\n",
       "      <th>industry_name_ANZSIC</th>\n",
       "      <th>rme_size_grp</th>\n",
       "      <th>variable</th>\n",
       "      <th>value</th>\n",
       "      <th>unit</th>\n",
       "    </tr>\n",
       "  </thead>\n",
       "  <tbody>\n",
       "    <tr>\n",
       "      <th>0</th>\n",
       "      <td>2011</td>\n",
       "      <td>A</td>\n",
       "      <td>Agriculture, Forestry and Fishing</td>\n",
       "      <td>a_0</td>\n",
       "      <td>Activity unit</td>\n",
       "      <td>46134</td>\n",
       "      <td>COUNT</td>\n",
       "    </tr>\n",
       "    <tr>\n",
       "      <th>1</th>\n",
       "      <td>2011</td>\n",
       "      <td>A</td>\n",
       "      <td>Agriculture, Forestry and Fishing</td>\n",
       "      <td>a_0</td>\n",
       "      <td>Rolling mean employees</td>\n",
       "      <td>0</td>\n",
       "      <td>COUNT</td>\n",
       "    </tr>\n",
       "    <tr>\n",
       "      <th>2</th>\n",
       "      <td>2011</td>\n",
       "      <td>A</td>\n",
       "      <td>Agriculture, Forestry and Fishing</td>\n",
       "      <td>a_0</td>\n",
       "      <td>Salaries and wages paid</td>\n",
       "      <td>279</td>\n",
       "      <td>DOLLARS(millions)</td>\n",
       "    </tr>\n",
       "    <tr>\n",
       "      <th>3</th>\n",
       "      <td>2011</td>\n",
       "      <td>A</td>\n",
       "      <td>Agriculture, Forestry and Fishing</td>\n",
       "      <td>a_0</td>\n",
       "      <td>Sales, government funding, grants and subsidies</td>\n",
       "      <td>8187</td>\n",
       "      <td>DOLLARS(millions)</td>\n",
       "    </tr>\n",
       "    <tr>\n",
       "      <th>4</th>\n",
       "      <td>2011</td>\n",
       "      <td>A</td>\n",
       "      <td>Agriculture, Forestry and Fishing</td>\n",
       "      <td>a_0</td>\n",
       "      <td>Total income</td>\n",
       "      <td>8866</td>\n",
       "      <td>DOLLARS(millions)</td>\n",
       "    </tr>\n",
       "  </tbody>\n",
       "</table>\n",
       "</div>"
      ],
      "text/plain": [
       "   year industry_code_ANZSIC               industry_name_ANZSIC rme_size_grp  \\\n",
       "0  2011                    A  Agriculture, Forestry and Fishing          a_0   \n",
       "1  2011                    A  Agriculture, Forestry and Fishing          a_0   \n",
       "2  2011                    A  Agriculture, Forestry and Fishing          a_0   \n",
       "3  2011                    A  Agriculture, Forestry and Fishing          a_0   \n",
       "4  2011                    A  Agriculture, Forestry and Fishing          a_0   \n",
       "\n",
       "                                          variable  value               unit  \n",
       "0                                    Activity unit  46134              COUNT  \n",
       "1                           Rolling mean employees      0              COUNT  \n",
       "2                          Salaries and wages paid    279  DOLLARS(millions)  \n",
       "3  Sales, government funding, grants and subsidies   8187  DOLLARS(millions)  \n",
       "4                                     Total income   8866  DOLLARS(millions)  "
      ]
     },
     "execution_count": 17,
     "metadata": {},
     "output_type": "execute_result"
    }
   ],
   "source": [
    "ml = pd.read_csv('C:\\exmpl.csv')\n",
    "ml.head() #первые пять, .tail - последние пять"
   ]
  },
  {
   "cell_type": "code",
   "execution_count": 18,
   "id": "ada56c52",
   "metadata": {},
   "outputs": [
    {
     "data": {
      "text/plain": [
       "[                                                   0                1\n",
       " 0  Mail.ruПочтаМой МирОдноклассникиВКонтактеИгрыЗ...  РегистрацияВход,\n",
       "     0      1\n",
       " 0 NaN  выход,\n",
       "                  0\n",
       " 0  РегистрацияВход,\n",
       "          0       1      2     3     4     5     6        7\n",
       " 0  Новости  Москва  Спорт  Авто  Кино  Леди  Игры  Hi-Tech,\n",
       "                                                    0  \\\n",
       " 0  Погода-3, ночью -10завтра -4mr.counter('d12654...   \n",
       " \n",
       "                                                    1  \\\n",
       " 0  Торги ММВБ$75.15+0.18€80.20+0.75mr.counter('d6...   \n",
       " \n",
       "                                                    2  \n",
       " 0  ГороскопыСкорпион — сегодня вы сделаете много ...  ,\n",
       "               0                                        1  \\\n",
       " 0  ТВ программа  Нефть83.90+0.02mr.counter('d12403154');   \n",
       " \n",
       "                              2  \n",
       " 0  Начните делать добрые дела!  ]"
      ]
     },
     "execution_count": 18,
     "metadata": {},
     "output_type": "execute_result"
    }
   ],
   "source": [
    "mailru= pd.read_html(\"https://mail.ru/\")\n",
    "mailru"
   ]
  },
  {
   "cell_type": "markdown",
   "id": "2d207885",
   "metadata": {},
   "source": [
    "что если файл слишком большой и не влезает в оперативную память"
   ]
  },
  {
   "cell_type": "code",
   "execution_count": 19,
   "id": "cbf76800",
   "metadata": {},
   "outputs": [
    {
     "name": "stdout",
     "output_type": "stream",
     "text": [
      "(10000, 7)\n",
      "(7028, 7)\n"
     ]
    }
   ],
   "source": [
    "c_size = 10000\n",
    "for gm_chunk in pd.read_csv('C:\\exmpl.csv', sep=',', chunksize=c_size):\n",
    "    print(gm_chunk.shape)"
   ]
  },
  {
   "cell_type": "markdown",
   "id": "14ab0222",
   "metadata": {},
   "source": [
    "<b>Экспорт данных</b>"
   ]
  },
  {
   "cell_type": "code",
   "execution_count": 20,
   "id": "8bd1b20e",
   "metadata": {
    "scrolled": false
   },
   "outputs": [
    {
     "data": {
      "text/plain": [
       "'\\ndf.to_csv(filename)\\ndf.to_excel(filename)\\ndf.to_sql(table_name, connrction_object)\\ndf.to_json(filename)\\ndf.to_html(filename)\\ndf.to_clipboard()\\n'"
      ]
     },
     "execution_count": 20,
     "metadata": {},
     "output_type": "execute_result"
    }
   ],
   "source": [
    "\"\"\"\n",
    "df.to_csv(filename)\n",
    "df.to_excel(filename)\n",
    "df.to_sql(table_name, connrction_object)\n",
    "df.to_json(filename)\n",
    "df.to_html(filename)\n",
    "df.to_clipboard()\n",
    "\"\"\""
   ]
  },
  {
   "cell_type": "markdown",
   "id": "827fdf05",
   "metadata": {},
   "source": [
    "<b>Доступ к данным</b>"
   ]
  },
  {
   "cell_type": "markdown",
   "id": "1c7fe4de",
   "metadata": {},
   "source": [
    "<ul>\n",
    "    <li>\n",
    "        .loc - для доступа по строковой метке\n",
    "    </li>\n",
    "    <li>\n",
    "        .iloc - для доступа по числовому значению (начиная от 0)\n",
    "    </li>\n",
    "</ul>"
   ]
  },
  {
   "cell_type": "code",
   "execution_count": 21,
   "id": "86ddcf86",
   "metadata": {},
   "outputs": [
    {
     "data": {
      "text/plain": [
       "country        Russia\n",
       "population        147\n",
       "square        1234556\n",
       "Name: RU, dtype: object"
      ]
     },
     "execution_count": 21,
     "metadata": {},
     "output_type": "execute_result"
    }
   ],
   "source": [
    "df.loc['RU']"
   ]
  },
  {
   "cell_type": "code",
   "execution_count": 22,
   "id": "829844a7",
   "metadata": {},
   "outputs": [
    {
     "data": {
      "text/plain": [
       "country        Russia\n",
       "population        147\n",
       "square        1234556\n",
       "Name: RU, dtype: object"
      ]
     },
     "execution_count": 22,
     "metadata": {},
     "output_type": "execute_result"
    }
   ],
   "source": [
    "df.iloc[0]"
   ]
  },
  {
   "cell_type": "code",
   "execution_count": 23,
   "id": "d728d141",
   "metadata": {},
   "outputs": [
    {
     "data": {
      "text/plain": [
       "FR     56\n",
       "RU    147\n",
       "Name: population, dtype: int64"
      ]
     },
     "execution_count": 23,
     "metadata": {},
     "output_type": "execute_result"
    }
   ],
   "source": [
    "#индекс + колонки\n",
    "#первая часть относится к строкам, вторая к столбцам\n",
    "df.loc[['FR', 'RU'], 'population']"
   ]
  },
  {
   "cell_type": "code",
   "execution_count": 24,
   "id": "70c2ec75",
   "metadata": {},
   "outputs": [
    {
     "data": {
      "text/html": [
       "<div>\n",
       "<style scoped>\n",
       "    .dataframe tbody tr th:only-of-type {\n",
       "        vertical-align: middle;\n",
       "    }\n",
       "\n",
       "    .dataframe tbody tr th {\n",
       "        vertical-align: top;\n",
       "    }\n",
       "\n",
       "    .dataframe thead th {\n",
       "        text-align: right;\n",
       "    }\n",
       "</style>\n",
       "<table border=\"1\" class=\"dataframe\">\n",
       "  <thead>\n",
       "    <tr style=\"text-align: right;\">\n",
       "      <th></th>\n",
       "      <th>country</th>\n",
       "      <th>square</th>\n",
       "    </tr>\n",
       "  </thead>\n",
       "  <tbody>\n",
       "    <tr>\n",
       "      <th>RU</th>\n",
       "      <td>Russia</td>\n",
       "      <td>1234556</td>\n",
       "    </tr>\n",
       "    <tr>\n",
       "      <th>US</th>\n",
       "      <td>USA</td>\n",
       "      <td>123748</td>\n",
       "    </tr>\n",
       "  </tbody>\n",
       "</table>\n",
       "</div>"
      ],
      "text/plain": [
       "   country   square\n",
       "RU  Russia  1234556\n",
       "US     USA   123748"
      ]
     },
     "execution_count": 24,
     "metadata": {},
     "output_type": "execute_result"
    }
   ],
   "source": [
    "df[df.population > 60][['country','square']]"
   ]
  },
  {
   "cell_type": "code",
   "execution_count": 25,
   "id": "45f4a7af",
   "metadata": {},
   "outputs": [
    {
     "data": {
      "text/html": [
       "<div>\n",
       "<style scoped>\n",
       "    .dataframe tbody tr th:only-of-type {\n",
       "        vertical-align: middle;\n",
       "    }\n",
       "\n",
       "    .dataframe tbody tr th {\n",
       "        vertical-align: top;\n",
       "    }\n",
       "\n",
       "    .dataframe thead th {\n",
       "        text-align: right;\n",
       "    }\n",
       "</style>\n",
       "<table border=\"1\" class=\"dataframe\">\n",
       "  <thead>\n",
       "    <tr style=\"text-align: right;\">\n",
       "      <th></th>\n",
       "      <th>country</th>\n",
       "      <th>population</th>\n",
       "      <th>square</th>\n",
       "    </tr>\n",
       "  </thead>\n",
       "  <tbody>\n",
       "    <tr>\n",
       "      <th>RU</th>\n",
       "      <td>Russia</td>\n",
       "      <td>147</td>\n",
       "      <td>1234556</td>\n",
       "    </tr>\n",
       "  </tbody>\n",
       "</table>\n",
       "</div>"
      ],
      "text/plain": [
       "   country  population   square\n",
       "RU  Russia         147  1234556"
      ]
     },
     "execution_count": 25,
     "metadata": {},
     "output_type": "execute_result"
    }
   ],
   "source": [
    "filters = (df.country== 'Russia')\n",
    "df[filters]"
   ]
  },
  {
   "cell_type": "code",
   "execution_count": 25,
   "id": "6278f7cb",
   "metadata": {},
   "outputs": [
    {
     "data": {
      "text/html": [
       "<div>\n",
       "<style scoped>\n",
       "    .dataframe tbody tr th:only-of-type {\n",
       "        vertical-align: middle;\n",
       "    }\n",
       "\n",
       "    .dataframe tbody tr th {\n",
       "        vertical-align: top;\n",
       "    }\n",
       "\n",
       "    .dataframe thead th {\n",
       "        text-align: right;\n",
       "    }\n",
       "</style>\n",
       "<table border=\"1\" class=\"dataframe\">\n",
       "  <thead>\n",
       "    <tr style=\"text-align: right;\">\n",
       "      <th></th>\n",
       "      <th>country</th>\n",
       "      <th>population</th>\n",
       "      <th>square</th>\n",
       "      <th>density</th>\n",
       "    </tr>\n",
       "  </thead>\n",
       "  <tbody>\n",
       "    <tr>\n",
       "      <th>RU</th>\n",
       "      <td>Russia</td>\n",
       "      <td>147</td>\n",
       "      <td>1234556</td>\n",
       "      <td>11.907115</td>\n",
       "    </tr>\n",
       "    <tr>\n",
       "      <th>FR</th>\n",
       "      <td>France</td>\n",
       "      <td>56</td>\n",
       "      <td>2356443</td>\n",
       "      <td>2.376463</td>\n",
       "    </tr>\n",
       "    <tr>\n",
       "      <th>US</th>\n",
       "      <td>USA</td>\n",
       "      <td>345</td>\n",
       "      <td>123748</td>\n",
       "      <td>278.792385</td>\n",
       "    </tr>\n",
       "  </tbody>\n",
       "</table>\n",
       "</div>"
      ],
      "text/plain": [
       "   country  population   square     density\n",
       "RU  Russia         147  1234556   11.907115\n",
       "FR  France          56  2356443    2.376463\n",
       "US     USA         345   123748  278.792385"
      ]
     },
     "execution_count": 25,
     "metadata": {},
     "output_type": "execute_result"
    }
   ],
   "source": [
    "#создаем новую строку\n",
    "df['density'] = df['population'] / df['square'] *10**5\n",
    "df"
   ]
  },
  {
   "cell_type": "code",
   "execution_count": 26,
   "id": "44223d9c",
   "metadata": {},
   "outputs": [
    {
     "data": {
      "text/html": [
       "<div>\n",
       "<style scoped>\n",
       "    .dataframe tbody tr th:only-of-type {\n",
       "        vertical-align: middle;\n",
       "    }\n",
       "\n",
       "    .dataframe tbody tr th {\n",
       "        vertical-align: top;\n",
       "    }\n",
       "\n",
       "    .dataframe thead th {\n",
       "        text-align: right;\n",
       "    }\n",
       "</style>\n",
       "<table border=\"1\" class=\"dataframe\">\n",
       "  <thead>\n",
       "    <tr style=\"text-align: right;\">\n",
       "      <th></th>\n",
       "      <th>country</th>\n",
       "      <th>population</th>\n",
       "      <th>square</th>\n",
       "    </tr>\n",
       "  </thead>\n",
       "  <tbody>\n",
       "    <tr>\n",
       "      <th>RU</th>\n",
       "      <td>Russia</td>\n",
       "      <td>147</td>\n",
       "      <td>1234556</td>\n",
       "    </tr>\n",
       "    <tr>\n",
       "      <th>FR</th>\n",
       "      <td>France</td>\n",
       "      <td>56</td>\n",
       "      <td>2356443</td>\n",
       "    </tr>\n",
       "    <tr>\n",
       "      <th>US</th>\n",
       "      <td>USA</td>\n",
       "      <td>345</td>\n",
       "      <td>123748</td>\n",
       "    </tr>\n",
       "  </tbody>\n",
       "</table>\n",
       "</div>"
      ],
      "text/plain": [
       "   country  population   square\n",
       "RU  Russia         147  1234556\n",
       "FR  France          56  2356443\n",
       "US     USA         345   123748"
      ]
     },
     "execution_count": 26,
     "metadata": {},
     "output_type": "execute_result"
    }
   ],
   "source": [
    "#при дропе колонок нужно перезаписывать данные в том или ином виде\n",
    "df.drop(['density'],axis=1)\n",
    "# df.drop(['density'], axis='columns', inplace = True)"
   ]
  },
  {
   "cell_type": "code",
   "execution_count": 27,
   "id": "c1b34393",
   "metadata": {},
   "outputs": [
    {
     "data": {
      "text/html": [
       "<div>\n",
       "<style scoped>\n",
       "    .dataframe tbody tr th:only-of-type {\n",
       "        vertical-align: middle;\n",
       "    }\n",
       "\n",
       "    .dataframe tbody tr th {\n",
       "        vertical-align: top;\n",
       "    }\n",
       "\n",
       "    .dataframe thead th {\n",
       "        text-align: right;\n",
       "    }\n",
       "</style>\n",
       "<table border=\"1\" class=\"dataframe\">\n",
       "  <thead>\n",
       "    <tr style=\"text-align: right;\">\n",
       "      <th></th>\n",
       "      <th>country</th>\n",
       "      <th>population</th>\n",
       "      <th>square</th>\n",
       "    </tr>\n",
       "  </thead>\n",
       "  <tbody>\n",
       "    <tr>\n",
       "      <th>RU</th>\n",
       "      <td>Russia</td>\n",
       "      <td>147</td>\n",
       "      <td>1234556</td>\n",
       "    </tr>\n",
       "    <tr>\n",
       "      <th>FR</th>\n",
       "      <td>France</td>\n",
       "      <td>56</td>\n",
       "      <td>2356443</td>\n",
       "    </tr>\n",
       "    <tr>\n",
       "      <th>US</th>\n",
       "      <td>USA</td>\n",
       "      <td>345</td>\n",
       "      <td>123748</td>\n",
       "    </tr>\n",
       "  </tbody>\n",
       "</table>\n",
       "</div>"
      ],
      "text/plain": [
       "   country  population   square\n",
       "RU  Russia         147  1234556\n",
       "FR  France          56  2356443\n",
       "US     USA         345   123748"
      ]
     },
     "execution_count": 27,
     "metadata": {},
     "output_type": "execute_result"
    }
   ],
   "source": [
    "df = df.drop(['density'], axis=1)\n",
    "df"
   ]
  },
  {
   "cell_type": "code",
   "execution_count": 28,
   "id": "04076c27",
   "metadata": {},
   "outputs": [
    {
     "data": {
      "text/html": [
       "<div>\n",
       "<style scoped>\n",
       "    .dataframe tbody tr th:only-of-type {\n",
       "        vertical-align: middle;\n",
       "    }\n",
       "\n",
       "    .dataframe tbody tr th {\n",
       "        vertical-align: top;\n",
       "    }\n",
       "\n",
       "    .dataframe thead th {\n",
       "        text-align: right;\n",
       "    }\n",
       "</style>\n",
       "<table border=\"1\" class=\"dataframe\">\n",
       "  <thead>\n",
       "    <tr style=\"text-align: right;\">\n",
       "      <th></th>\n",
       "      <th>country</th>\n",
       "      <th>population</th>\n",
       "      <th>square</th>\n",
       "    </tr>\n",
       "  </thead>\n",
       "  <tbody>\n",
       "    <tr>\n",
       "      <th>RU</th>\n",
       "      <td>Russia</td>\n",
       "      <td>147</td>\n",
       "      <td>1234556</td>\n",
       "    </tr>\n",
       "    <tr>\n",
       "      <th>FR</th>\n",
       "      <td>France</td>\n",
       "      <td>56</td>\n",
       "      <td>2356443</td>\n",
       "    </tr>\n",
       "    <tr>\n",
       "      <th>US</th>\n",
       "      <td>USA</td>\n",
       "      <td>345</td>\n",
       "      <td>123748</td>\n",
       "    </tr>\n",
       "  </tbody>\n",
       "</table>\n",
       "</div>"
      ],
      "text/plain": [
       "   country  population   square\n",
       "RU  Russia         147  1234556\n",
       "FR  France          56  2356443\n",
       "US     USA         345   123748"
      ]
     },
     "execution_count": 28,
     "metadata": {},
     "output_type": "execute_result"
    }
   ],
   "source": [
    "df = df.rename(columns={\"Country code\": \"country_code\"})\n",
    "df"
   ]
  },
  {
   "cell_type": "code",
   "execution_count": 29,
   "id": "aa14e60c",
   "metadata": {},
   "outputs": [
    {
     "data": {
      "text/html": [
       "<div>\n",
       "<style scoped>\n",
       "    .dataframe tbody tr th:only-of-type {\n",
       "        vertical-align: middle;\n",
       "    }\n",
       "\n",
       "    .dataframe tbody tr th {\n",
       "        vertical-align: top;\n",
       "    }\n",
       "\n",
       "    .dataframe thead th {\n",
       "        text-align: right;\n",
       "    }\n",
       "</style>\n",
       "<table border=\"1\" class=\"dataframe\">\n",
       "  <thead>\n",
       "    <tr style=\"text-align: right;\">\n",
       "      <th></th>\n",
       "      <th>country</th>\n",
       "      <th>population</th>\n",
       "      <th>square</th>\n",
       "    </tr>\n",
       "  </thead>\n",
       "  <tbody>\n",
       "    <tr>\n",
       "      <th>US</th>\n",
       "      <td>USA</td>\n",
       "      <td>345</td>\n",
       "      <td>123748</td>\n",
       "    </tr>\n",
       "    <tr>\n",
       "      <th>RU</th>\n",
       "      <td>Russia</td>\n",
       "      <td>147</td>\n",
       "      <td>1234556</td>\n",
       "    </tr>\n",
       "  </tbody>\n",
       "</table>\n",
       "</div>"
      ],
      "text/plain": [
       "   country  population   square\n",
       "US     USA         345   123748\n",
       "RU  Russia         147  1234556"
      ]
     },
     "execution_count": 29,
     "metadata": {},
     "output_type": "execute_result"
    }
   ],
   "source": [
    "#вытаскивает n самых больших элементов\n",
    "\n",
    "df.nlargest(2, \"population\")"
   ]
  },
  {
   "cell_type": "code",
   "execution_count": 30,
   "id": "bc44c89b",
   "metadata": {},
   "outputs": [
    {
     "data": {
      "text/html": [
       "<div>\n",
       "<style scoped>\n",
       "    .dataframe tbody tr th:only-of-type {\n",
       "        vertical-align: middle;\n",
       "    }\n",
       "\n",
       "    .dataframe tbody tr th {\n",
       "        vertical-align: top;\n",
       "    }\n",
       "\n",
       "    .dataframe thead th {\n",
       "        text-align: right;\n",
       "    }\n",
       "</style>\n",
       "<table border=\"1\" class=\"dataframe\">\n",
       "  <thead>\n",
       "    <tr style=\"text-align: right;\">\n",
       "      <th></th>\n",
       "      <th>country</th>\n",
       "      <th>population</th>\n",
       "      <th>square</th>\n",
       "    </tr>\n",
       "  </thead>\n",
       "  <tbody>\n",
       "    <tr>\n",
       "      <th>US</th>\n",
       "      <td>USA</td>\n",
       "      <td>345</td>\n",
       "      <td>123748</td>\n",
       "    </tr>\n",
       "    <tr>\n",
       "      <th>RU</th>\n",
       "      <td>Russia</td>\n",
       "      <td>147</td>\n",
       "      <td>1234556</td>\n",
       "    </tr>\n",
       "  </tbody>\n",
       "</table>\n",
       "</div>"
      ],
      "text/plain": [
       "   country  population   square\n",
       "US     USA         345   123748\n",
       "RU  Russia         147  1234556"
      ]
     },
     "execution_count": 30,
     "metadata": {},
     "output_type": "execute_result"
    }
   ],
   "source": [
    "df.nsmallest(2,\"square\")"
   ]
  },
  {
   "cell_type": "markdown",
   "id": "5f86196d",
   "metadata": {},
   "source": [
    "<b>Работа с данными с помощью Pandas</b>   \n",
    "Данные "
   ]
  },
  {
   "cell_type": "code",
   "execution_count": 31,
   "id": "12c370ca",
   "metadata": {},
   "outputs": [
    {
     "data": {
      "text/html": [
       "<div>\n",
       "<style scoped>\n",
       "    .dataframe tbody tr th:only-of-type {\n",
       "        vertical-align: middle;\n",
       "    }\n",
       "\n",
       "    .dataframe tbody tr th {\n",
       "        vertical-align: top;\n",
       "    }\n",
       "\n",
       "    .dataframe thead th {\n",
       "        text-align: right;\n",
       "    }\n",
       "</style>\n",
       "<table border=\"1\" class=\"dataframe\">\n",
       "  <thead>\n",
       "    <tr style=\"text-align: right;\">\n",
       "      <th></th>\n",
       "      <th>name</th>\n",
       "      <th>id</th>\n",
       "      <th>nametype</th>\n",
       "      <th>recclass</th>\n",
       "      <th>mass</th>\n",
       "      <th>fall</th>\n",
       "      <th>year</th>\n",
       "      <th>reclat</th>\n",
       "      <th>reclong</th>\n",
       "      <th>GeoLocation</th>\n",
       "    </tr>\n",
       "  </thead>\n",
       "  <tbody>\n",
       "    <tr>\n",
       "      <th>0</th>\n",
       "      <td>Aachen</td>\n",
       "      <td>1</td>\n",
       "      <td>Valid</td>\n",
       "      <td>L5</td>\n",
       "      <td>21.0</td>\n",
       "      <td>Fell</td>\n",
       "      <td>1880.0</td>\n",
       "      <td>50.77500</td>\n",
       "      <td>6.08333</td>\n",
       "      <td>(50.775000, 6.083330)</td>\n",
       "    </tr>\n",
       "    <tr>\n",
       "      <th>1</th>\n",
       "      <td>Aarhus</td>\n",
       "      <td>2</td>\n",
       "      <td>Valid</td>\n",
       "      <td>H6</td>\n",
       "      <td>720.0</td>\n",
       "      <td>Fell</td>\n",
       "      <td>1951.0</td>\n",
       "      <td>56.18333</td>\n",
       "      <td>10.23333</td>\n",
       "      <td>(56.183330, 10.233330)</td>\n",
       "    </tr>\n",
       "    <tr>\n",
       "      <th>2</th>\n",
       "      <td>Abee</td>\n",
       "      <td>6</td>\n",
       "      <td>Valid</td>\n",
       "      <td>EH4</td>\n",
       "      <td>107000.0</td>\n",
       "      <td>Fell</td>\n",
       "      <td>1952.0</td>\n",
       "      <td>54.21667</td>\n",
       "      <td>-113.00000</td>\n",
       "      <td>(54.216670, -113.000000)</td>\n",
       "    </tr>\n",
       "    <tr>\n",
       "      <th>3</th>\n",
       "      <td>Acapulco</td>\n",
       "      <td>10</td>\n",
       "      <td>Valid</td>\n",
       "      <td>Acapulcoite</td>\n",
       "      <td>1914.0</td>\n",
       "      <td>Fell</td>\n",
       "      <td>1976.0</td>\n",
       "      <td>16.88333</td>\n",
       "      <td>-99.90000</td>\n",
       "      <td>(16.883330, -99.900000)</td>\n",
       "    </tr>\n",
       "    <tr>\n",
       "      <th>4</th>\n",
       "      <td>Achiras</td>\n",
       "      <td>370</td>\n",
       "      <td>Valid</td>\n",
       "      <td>L6</td>\n",
       "      <td>780.0</td>\n",
       "      <td>Fell</td>\n",
       "      <td>1902.0</td>\n",
       "      <td>-33.16667</td>\n",
       "      <td>-64.95000</td>\n",
       "      <td>(-33.166670, -64.950000)</td>\n",
       "    </tr>\n",
       "  </tbody>\n",
       "</table>\n",
       "</div>"
      ],
      "text/plain": [
       "       name   id nametype     recclass      mass  fall    year    reclat  \\\n",
       "0    Aachen    1    Valid           L5      21.0  Fell  1880.0  50.77500   \n",
       "1    Aarhus    2    Valid           H6     720.0  Fell  1951.0  56.18333   \n",
       "2      Abee    6    Valid          EH4  107000.0  Fell  1952.0  54.21667   \n",
       "3  Acapulco   10    Valid  Acapulcoite    1914.0  Fell  1976.0  16.88333   \n",
       "4   Achiras  370    Valid           L6     780.0  Fell  1902.0 -33.16667   \n",
       "\n",
       "     reclong               GeoLocation  \n",
       "0    6.08333     (50.775000, 6.083330)  \n",
       "1   10.23333    (56.183330, 10.233330)  \n",
       "2 -113.00000  (54.216670, -113.000000)  \n",
       "3  -99.90000   (16.883330, -99.900000)  \n",
       "4  -64.95000  (-33.166670, -64.950000)  "
      ]
     },
     "execution_count": 31,
     "metadata": {},
     "output_type": "execute_result"
    }
   ],
   "source": [
    "df = pd.read_csv(\"C:/Users/alexo/OneDrive/Рабочий стол/py обуч/meteorite-landings.csv\", sep=\",\")\n",
    "df.head()"
   ]
  },
  {
   "cell_type": "code",
   "execution_count": 32,
   "id": "c2578929",
   "metadata": {},
   "outputs": [],
   "source": [
    "#по умолчанию выводится 20 столбоцов и 60 строк, но можно менять при помощи:\n",
    "pd.set_option(\"display.max_columns\", 100)\n",
    "pd.set_option(\"display.max_rows\", 100)"
   ]
  },
  {
   "cell_type": "code",
   "execution_count": 33,
   "id": "c81c485f",
   "metadata": {},
   "outputs": [],
   "source": [
    "#полезно (сколько цифр после запятой)\n",
    "#df.set_option(\"display.precision\", 3)"
   ]
  },
  {
   "cell_type": "code",
   "execution_count": 34,
   "id": "1acd9ff7",
   "metadata": {},
   "outputs": [
    {
     "data": {
      "text/plain": [
       "(45716, 10)"
      ]
     },
     "execution_count": 34,
     "metadata": {},
     "output_type": "execute_result"
    }
   ],
   "source": [
    "#457116 наложений и 10 колонок\n",
    "df.shape"
   ]
  },
  {
   "cell_type": "code",
   "execution_count": 35,
   "id": "98ba2839",
   "metadata": {},
   "outputs": [
    {
     "data": {
      "text/plain": [
       "Index(['name', 'id', 'nametype', 'recclass', 'mass', 'fall', 'year', 'reclat',\n",
       "       'reclong', 'GeoLocation'],\n",
       "      dtype='object')"
      ]
     },
     "execution_count": 35,
     "metadata": {},
     "output_type": "execute_result"
    }
   ],
   "source": [
    "df.columns"
   ]
  },
  {
   "cell_type": "code",
   "execution_count": 36,
   "id": "a7b12197",
   "metadata": {},
   "outputs": [
    {
     "data": {
      "text/plain": [
       "97"
      ]
     },
     "execution_count": 36,
     "metadata": {},
     "output_type": "execute_result"
    }
   ],
   "source": [
    "ord('a')"
   ]
  },
  {
   "cell_type": "code",
   "execution_count": 37,
   "id": "8ce62f82",
   "metadata": {},
   "outputs": [
    {
     "data": {
      "text/plain": [
       "122"
      ]
     },
     "execution_count": 37,
     "metadata": {},
     "output_type": "execute_result"
    }
   ],
   "source": [
    "ord('z')"
   ]
  },
  {
   "cell_type": "code",
   "execution_count": 38,
   "id": "817e5f01",
   "metadata": {},
   "outputs": [
    {
     "data": {
      "text/plain": [
       "48"
      ]
     },
     "execution_count": 38,
     "metadata": {},
     "output_type": "execute_result"
    }
   ],
   "source": [
    "ord('0')"
   ]
  },
  {
   "cell_type": "code",
   "execution_count": 39,
   "id": "0ea5d2b5",
   "metadata": {},
   "outputs": [
    {
     "data": {
      "text/plain": [
       "0.6666666666666666"
      ]
     },
     "execution_count": 39,
     "metadata": {},
     "output_type": "execute_result"
    }
   ],
   "source": [
    "import statistics as st\n",
    "st.mean([True, True, False])"
   ]
  },
  {
   "cell_type": "markdown",
   "id": "7ac192ac",
   "metadata": {},
   "source": [
    "*общая инфа по датафрейму*"
   ]
  },
  {
   "cell_type": "code",
   "execution_count": 43,
   "id": "bdce48f5",
   "metadata": {},
   "outputs": [
    {
     "data": {
      "text/html": [
       "<div>\n",
       "<style scoped>\n",
       "    .dataframe tbody tr th:only-of-type {\n",
       "        vertical-align: middle;\n",
       "    }\n",
       "\n",
       "    .dataframe tbody tr th {\n",
       "        vertical-align: top;\n",
       "    }\n",
       "\n",
       "    .dataframe thead th {\n",
       "        text-align: right;\n",
       "    }\n",
       "</style>\n",
       "<table border=\"1\" class=\"dataframe\">\n",
       "  <thead>\n",
       "    <tr style=\"text-align: right;\">\n",
       "      <th></th>\n",
       "      <th>id</th>\n",
       "      <th>mass</th>\n",
       "      <th>year</th>\n",
       "      <th>reclat</th>\n",
       "      <th>reclong</th>\n",
       "    </tr>\n",
       "  </thead>\n",
       "  <tbody>\n",
       "    <tr>\n",
       "      <th>count</th>\n",
       "      <td>45716.000000</td>\n",
       "      <td>4.558500e+04</td>\n",
       "      <td>45428.000000</td>\n",
       "      <td>38401.000000</td>\n",
       "      <td>38401.000000</td>\n",
       "    </tr>\n",
       "    <tr>\n",
       "      <th>mean</th>\n",
       "      <td>26889.735104</td>\n",
       "      <td>1.327808e+04</td>\n",
       "      <td>1991.772189</td>\n",
       "      <td>-39.122580</td>\n",
       "      <td>61.074319</td>\n",
       "    </tr>\n",
       "    <tr>\n",
       "      <th>std</th>\n",
       "      <td>16860.683030</td>\n",
       "      <td>5.749889e+05</td>\n",
       "      <td>27.181247</td>\n",
       "      <td>46.378511</td>\n",
       "      <td>80.647298</td>\n",
       "    </tr>\n",
       "    <tr>\n",
       "      <th>min</th>\n",
       "      <td>1.000000</td>\n",
       "      <td>0.000000e+00</td>\n",
       "      <td>301.000000</td>\n",
       "      <td>-87.366670</td>\n",
       "      <td>-165.433330</td>\n",
       "    </tr>\n",
       "    <tr>\n",
       "      <th>25%</th>\n",
       "      <td>12688.750000</td>\n",
       "      <td>7.200000e+00</td>\n",
       "      <td>1987.000000</td>\n",
       "      <td>-76.714240</td>\n",
       "      <td>0.000000</td>\n",
       "    </tr>\n",
       "    <tr>\n",
       "      <th>50%</th>\n",
       "      <td>24261.500000</td>\n",
       "      <td>3.260000e+01</td>\n",
       "      <td>1998.000000</td>\n",
       "      <td>-71.500000</td>\n",
       "      <td>35.666670</td>\n",
       "    </tr>\n",
       "    <tr>\n",
       "      <th>75%</th>\n",
       "      <td>40656.750000</td>\n",
       "      <td>2.026000e+02</td>\n",
       "      <td>2003.000000</td>\n",
       "      <td>0.000000</td>\n",
       "      <td>157.166670</td>\n",
       "    </tr>\n",
       "    <tr>\n",
       "      <th>max</th>\n",
       "      <td>57458.000000</td>\n",
       "      <td>6.000000e+07</td>\n",
       "      <td>2501.000000</td>\n",
       "      <td>81.166670</td>\n",
       "      <td>354.473330</td>\n",
       "    </tr>\n",
       "  </tbody>\n",
       "</table>\n",
       "</div>"
      ],
      "text/plain": [
       "                 id          mass          year        reclat       reclong\n",
       "count  45716.000000  4.558500e+04  45428.000000  38401.000000  38401.000000\n",
       "mean   26889.735104  1.327808e+04   1991.772189    -39.122580     61.074319\n",
       "std    16860.683030  5.749889e+05     27.181247     46.378511     80.647298\n",
       "min        1.000000  0.000000e+00    301.000000    -87.366670   -165.433330\n",
       "25%    12688.750000  7.200000e+00   1987.000000    -76.714240      0.000000\n",
       "50%    24261.500000  3.260000e+01   1998.000000    -71.500000     35.666670\n",
       "75%    40656.750000  2.026000e+02   2003.000000      0.000000    157.166670\n",
       "max    57458.000000  6.000000e+07   2501.000000     81.166670    354.473330"
      ]
     },
     "execution_count": 43,
     "metadata": {},
     "output_type": "execute_result"
    }
   ],
   "source": [
    "#числовыые хорактеристики\n",
    "df.describe()"
   ]
  },
  {
   "cell_type": "code",
   "execution_count": 45,
   "id": "5263a4c1",
   "metadata": {},
   "outputs": [
    {
     "data": {
      "text/html": [
       "<div>\n",
       "<style scoped>\n",
       "    .dataframe tbody tr th:only-of-type {\n",
       "        vertical-align: middle;\n",
       "    }\n",
       "\n",
       "    .dataframe tbody tr th {\n",
       "        vertical-align: top;\n",
       "    }\n",
       "\n",
       "    .dataframe thead th {\n",
       "        text-align: right;\n",
       "    }\n",
       "</style>\n",
       "<table border=\"1\" class=\"dataframe\">\n",
       "  <thead>\n",
       "    <tr style=\"text-align: right;\">\n",
       "      <th></th>\n",
       "      <th>name</th>\n",
       "      <th>nametype</th>\n",
       "      <th>recclass</th>\n",
       "      <th>fall</th>\n",
       "      <th>GeoLocation</th>\n",
       "    </tr>\n",
       "  </thead>\n",
       "  <tbody>\n",
       "    <tr>\n",
       "      <th>count</th>\n",
       "      <td>45716</td>\n",
       "      <td>45716</td>\n",
       "      <td>45716</td>\n",
       "      <td>45716</td>\n",
       "      <td>38401</td>\n",
       "    </tr>\n",
       "    <tr>\n",
       "      <th>unique</th>\n",
       "      <td>45716</td>\n",
       "      <td>2</td>\n",
       "      <td>466</td>\n",
       "      <td>2</td>\n",
       "      <td>17100</td>\n",
       "    </tr>\n",
       "    <tr>\n",
       "      <th>top</th>\n",
       "      <td>Aachen</td>\n",
       "      <td>Valid</td>\n",
       "      <td>L6</td>\n",
       "      <td>Found</td>\n",
       "      <td>(0.000000, 0.000000)</td>\n",
       "    </tr>\n",
       "    <tr>\n",
       "      <th>freq</th>\n",
       "      <td>1</td>\n",
       "      <td>45641</td>\n",
       "      <td>8285</td>\n",
       "      <td>44609</td>\n",
       "      <td>6214</td>\n",
       "    </tr>\n",
       "  </tbody>\n",
       "</table>\n",
       "</div>"
      ],
      "text/plain": [
       "          name nametype recclass   fall           GeoLocation\n",
       "count    45716    45716    45716  45716                 38401\n",
       "unique   45716        2      466      2                 17100\n",
       "top     Aachen    Valid       L6  Found  (0.000000, 0.000000)\n",
       "freq         1    45641     8285  44609                  6214"
      ]
     },
     "execution_count": 45,
     "metadata": {},
     "output_type": "execute_result"
    }
   ],
   "source": [
    "#нечисловые\n",
    "df.describe(include=[\"object\"])"
   ]
  },
  {
   "cell_type": "markdown",
   "id": "c6f02373",
   "metadata": {},
   "source": [
    "по нечисловым признакам можно изучить распределение"
   ]
  },
  {
   "cell_type": "code",
   "execution_count": 48,
   "id": "bcf1dbdd",
   "metadata": {},
   "outputs": [
    {
     "data": {
      "text/plain": [
       "L6    8285\n",
       "H5    7142\n",
       "L5    4796\n",
       "H6    4528\n",
       "H4    4211\n",
       "Name: recclass, dtype: int64"
      ]
     },
     "execution_count": 48,
     "metadata": {},
     "output_type": "execute_result"
    }
   ],
   "source": [
    "df.recclass.value_counts()[:5]"
   ]
  },
  {
   "cell_type": "markdown",
   "id": "95584acd",
   "metadata": {},
   "source": [
    "Информация о колонках датафрейма"
   ]
  },
  {
   "cell_type": "code",
   "execution_count": 50,
   "id": "ad40a750",
   "metadata": {},
   "outputs": [
    {
     "name": "stdout",
     "output_type": "stream",
     "text": [
      "<class 'pandas.core.frame.DataFrame'>\n",
      "RangeIndex: 45716 entries, 0 to 45715\n",
      "Data columns (total 10 columns):\n",
      " #   Column       Non-Null Count  Dtype  \n",
      "---  ------       --------------  -----  \n",
      " 0   name         45716 non-null  object \n",
      " 1   id           45716 non-null  int64  \n",
      " 2   nametype     45716 non-null  object \n",
      " 3   recclass     45716 non-null  object \n",
      " 4   mass         45585 non-null  float64\n",
      " 5   fall         45716 non-null  object \n",
      " 6   year         45428 non-null  float64\n",
      " 7   reclat       38401 non-null  float64\n",
      " 8   reclong      38401 non-null  float64\n",
      " 9   GeoLocation  38401 non-null  object \n",
      "dtypes: float64(4), int64(1), object(5)\n",
      "memory usage: 3.5+ MB\n",
      "None\n"
     ]
    }
   ],
   "source": [
    "print(df.info())"
   ]
  },
  {
   "cell_type": "markdown",
   "id": "999f8ab1",
   "metadata": {},
   "source": [
    "В случае работы с большими датафреймами занимается память - крит фактор:"
   ]
  },
  {
   "cell_type": "code",
   "execution_count": 51,
   "id": "82aacc8e",
   "metadata": {},
   "outputs": [
    {
     "name": "stdout",
     "output_type": "stream",
     "text": [
      "Average memory usage for float columns: 0.28 MB\n",
      "Average memory usage for int columns: 0.17 MB\n",
      "Average memory usage for object columns: 2.41 MB\n"
     ]
    }
   ],
   "source": [
    "for dtype in ['float', 'int', 'object']:\n",
    "    selected_dtype = df.select_dtypes(include=[dtype])\n",
    "    mean_usage_b = selected_dtype.memory_usage(deep=True).mean()\n",
    "    mean_usage_mb = mean_usage_b /1024 **2\n",
    "    print(\"Average memory usage for {} columns: {:03.2f} MB\".format(dtype, mean_usage_mb))"
   ]
  },
  {
   "cell_type": "markdown",
   "id": "061ad9c0",
   "metadata": {},
   "source": [
    "*Мы можем закодировать колонки типа object в числовые эквиваленты, например, с помощью pd.factorize*   \n",
    "   \n",
    "изменим тип колонок в том случае, если это необходимо"
   ]
  },
  {
   "cell_type": "code",
   "execution_count": 52,
   "id": "cf7e812f",
   "metadata": {},
   "outputs": [],
   "source": [
    "df['mass'] = df['mass'].astype(\"float32\")"
   ]
  },
  {
   "cell_type": "code",
   "execution_count": 53,
   "id": "d135164c",
   "metadata": {},
   "outputs": [
    {
     "name": "stdout",
     "output_type": "stream",
     "text": [
      "<class 'pandas.core.frame.DataFrame'>\n",
      "RangeIndex: 45716 entries, 0 to 45715\n",
      "Data columns (total 10 columns):\n",
      " #   Column       Non-Null Count  Dtype  \n",
      "---  ------       --------------  -----  \n",
      " 0   name         45716 non-null  object \n",
      " 1   id           45716 non-null  int64  \n",
      " 2   nametype     45716 non-null  object \n",
      " 3   recclass     45716 non-null  object \n",
      " 4   mass         45585 non-null  float32\n",
      " 5   fall         45716 non-null  object \n",
      " 6   year         45428 non-null  float64\n",
      " 7   reclat       38401 non-null  float64\n",
      " 8   reclong      38401 non-null  float64\n",
      " 9   GeoLocation  38401 non-null  object \n",
      "dtypes: float32(1), float64(3), int64(1), object(5)\n",
      "memory usage: 3.3+ MB\n",
      "None\n"
     ]
    }
   ],
   "source": [
    "#обратить внимание, как изменяется размер занимаемой памяти\n",
    "print(df.info())"
   ]
  },
  {
   "cell_type": "markdown",
   "id": "c24efbca",
   "metadata": {},
   "source": [
    "<b>Тип данных КАТЕГОРИЯ</b>   \n",
    "*позволяет более эффективно работать с категориальными признаками*\n",
    "   \n",
    "   \n",
    "Что такое категориальные признаки?"
   ]
  },
  {
   "cell_type": "code",
   "execution_count": 56,
   "id": "7b7de588",
   "metadata": {},
   "outputs": [
    {
     "data": {
      "text/plain": [
       "[('name', 45716),\n",
       " ('id', 45716),\n",
       " ('nametype', 2),\n",
       " ('recclass', 466),\n",
       " ('mass', 12576),\n",
       " ('fall', 2),\n",
       " ('year', 268),\n",
       " ('reclat', 12738),\n",
       " ('reclong', 14640),\n",
       " ('GeoLocation', 17100)]"
      ]
     },
     "execution_count": 56,
     "metadata": {},
     "output_type": "execute_result"
    }
   ],
   "source": [
    "[(col, df[col].nunique()) for col in df.columns]"
   ]
  },
  {
   "cell_type": "code",
   "execution_count": 60,
   "id": "a45721ac",
   "metadata": {},
   "outputs": [
    {
     "data": {
      "text/html": [
       "<div>\n",
       "<style scoped>\n",
       "    .dataframe tbody tr th:only-of-type {\n",
       "        vertical-align: middle;\n",
       "    }\n",
       "\n",
       "    .dataframe tbody tr th {\n",
       "        vertical-align: top;\n",
       "    }\n",
       "\n",
       "    .dataframe thead th {\n",
       "        text-align: right;\n",
       "    }\n",
       "</style>\n",
       "<table border=\"1\" class=\"dataframe\">\n",
       "  <thead>\n",
       "    <tr style=\"text-align: right;\">\n",
       "      <th></th>\n",
       "      <th>Column_name</th>\n",
       "      <th>Num_Unique</th>\n",
       "    </tr>\n",
       "  </thead>\n",
       "  <tbody>\n",
       "    <tr>\n",
       "      <th>2</th>\n",
       "      <td>nametype</td>\n",
       "      <td>2</td>\n",
       "    </tr>\n",
       "    <tr>\n",
       "      <th>5</th>\n",
       "      <td>fall</td>\n",
       "      <td>2</td>\n",
       "    </tr>\n",
       "    <tr>\n",
       "      <th>6</th>\n",
       "      <td>year</td>\n",
       "      <td>268</td>\n",
       "    </tr>\n",
       "    <tr>\n",
       "      <th>3</th>\n",
       "      <td>recclass</td>\n",
       "      <td>466</td>\n",
       "    </tr>\n",
       "    <tr>\n",
       "      <th>4</th>\n",
       "      <td>mass</td>\n",
       "      <td>12576</td>\n",
       "    </tr>\n",
       "    <tr>\n",
       "      <th>7</th>\n",
       "      <td>reclat</td>\n",
       "      <td>12738</td>\n",
       "    </tr>\n",
       "    <tr>\n",
       "      <th>8</th>\n",
       "      <td>reclong</td>\n",
       "      <td>14640</td>\n",
       "    </tr>\n",
       "    <tr>\n",
       "      <th>9</th>\n",
       "      <td>GeoLocation</td>\n",
       "      <td>17100</td>\n",
       "    </tr>\n",
       "    <tr>\n",
       "      <th>0</th>\n",
       "      <td>name</td>\n",
       "      <td>45716</td>\n",
       "    </tr>\n",
       "    <tr>\n",
       "      <th>1</th>\n",
       "      <td>id</td>\n",
       "      <td>45716</td>\n",
       "    </tr>\n",
       "  </tbody>\n",
       "</table>\n",
       "</div>"
      ],
      "text/plain": [
       "   Column_name  Num_Unique\n",
       "2     nametype           2\n",
       "5         fall           2\n",
       "6         year         268\n",
       "3     recclass         466\n",
       "4         mass       12576\n",
       "7       reclat       12738\n",
       "8      reclong       14640\n",
       "9  GeoLocation       17100\n",
       "0         name       45716\n",
       "1           id       45716"
      ]
     },
     "execution_count": 60,
     "metadata": {},
     "output_type": "execute_result"
    }
   ],
   "source": [
    "unique_counts = pd.DataFrame.from_records([(col, df[col].nunique()) for col in df.columns], \n",
    "                                          columns = [\"Column_name\", \"Num_Unique\"]).sort_values(by=[\"Num_Unique\"])\n",
    "unique_counts"
   ]
  },
  {
   "cell_type": "markdown",
   "id": "2d9cab46",
   "metadata": {},
   "source": [
    "reccalss (класс метеорита) - отличный кандидат для категориального признака (тк наименьшее количество уникальных элементов)"
   ]
  },
  {
   "cell_type": "code",
   "execution_count": 66,
   "id": "27afb018",
   "metadata": {},
   "outputs": [],
   "source": [
    "df_with_cat = df.copy()"
   ]
  },
  {
   "cell_type": "code",
   "execution_count": 67,
   "id": "6dc9767a",
   "metadata": {},
   "outputs": [],
   "source": [
    "df_with_cat[\"recclass\"] = df_with_cat[\"recclass\"].astype(\"category\")"
   ]
  },
  {
   "cell_type": "markdown",
   "id": "aaeeb9b4",
   "metadata": {},
   "source": [
    "Зачем нужны категориальные признаки Pandas:\n",
    "- позволяют более эффективно обрабатывать категориадьные признаки\n",
    "- многие питоновские библиотеки имеют встроенные методы по работе с категориальными признаками\n",
    "- таки признаки занимают меньше места и так же хорошо сказываются на производительности"
   ]
  },
  {
   "cell_type": "code",
   "execution_count": 68,
   "id": "7f7e25aa",
   "metadata": {},
   "outputs": [
    {
     "name": "stdout",
     "output_type": "stream",
     "text": [
      "<class 'pandas.core.frame.DataFrame'>\n",
      "RangeIndex: 45716 entries, 0 to 45715\n",
      "Data columns (total 10 columns):\n",
      " #   Column       Non-Null Count  Dtype   \n",
      "---  ------       --------------  -----   \n",
      " 0   name         45716 non-null  object  \n",
      " 1   id           45716 non-null  int64   \n",
      " 2   nametype     45716 non-null  object  \n",
      " 3   recclass     45716 non-null  category\n",
      " 4   mass         45585 non-null  float32 \n",
      " 5   fall         45716 non-null  object  \n",
      " 6   year         45428 non-null  float64 \n",
      " 7   reclat       38401 non-null  float64 \n",
      " 8   reclong      38401 non-null  float64 \n",
      " 9   GeoLocation  38401 non-null  object  \n",
      "dtypes: category(1), float32(1), float64(3), int64(1), object(4)\n",
      "memory usage: 3.1+ MB\n",
      "None\n"
     ]
    }
   ],
   "source": [
    "print(df_with_cat.info())"
   ]
  },
  {
   "cell_type": "code",
   "execution_count": 2,
   "id": "a26a0cdb",
   "metadata": {},
   "outputs": [],
   "source": [
    "import numpy"
   ]
  },
  {
   "cell_type": "code",
   "execution_count": 3,
   "id": "e037e240",
   "metadata": {},
   "outputs": [
    {
     "name": "stdout",
     "output_type": "stream",
     "text": [
      "Введите числа через пробел: 1 2 3 4\n",
      "Максимальное значение из списка: 4\n",
      "Wall time: 3.72 s\n"
     ]
    }
   ],
   "source": [
    "\n",
    "\n",
    "%%time\n",
    "numbers = list()\n",
    "for i in input(\"Введите числа через пробел: \").split():\n",
    "        numbers.append(i)\n",
    "numbers.sort(reverse = True)\n",
    "\n",
    "print(\"Максимальное значение из списка:\", numbers[0])"
   ]
  },
  {
   "cell_type": "code",
   "execution_count": 5,
   "id": "92a2ded1",
   "metadata": {},
   "outputs": [
    {
     "name": "stdout",
     "output_type": "stream",
     "text": [
      "1 2 3 4\n",
      "[1, 2, 3, 4]\n",
      "4\n",
      "Wall time: 3.5 s\n"
     ]
    }
   ],
   "source": [
    "%%time\n",
    "a = list(map(int, input().split()))\n",
    "max= - (10**10)\n",
    "i=0\n",
    "print(a)\n",
    "while i < len(a):\n",
    "    if a[i]>max:\n",
    "        max=a[i]\n",
    "    i+=1\n",
    "print(max)"
   ]
  },
  {
   "cell_type": "code",
   "execution_count": 1,
   "id": "0c839db1",
   "metadata": {},
   "outputs": [
    {
     "name": "stdout",
     "output_type": "stream",
     "text": [
      "0    4\n",
      "1    7\n",
      "2   -5\n",
      "3    3\n",
      "dtype: int64 \n",
      "\n",
      "\n",
      "    Immutable Index implementing a monotonic integer range.\n",
      "\n",
      "    RangeIndex is a memory-saving special case of Int64Index limited to\n",
      "    representing monotonic ranges. Using RangeIndex may in some instances\n",
      "    improve computing speed.\n",
      "\n",
      "    This is the default index type used\n",
      "    by DataFrame and Series when no explicit index is provided by the user.\n",
      "\n",
      "    Parameters\n",
      "    ----------\n",
      "    start : int (default: 0), range, or other RangeIndex instance\n",
      "        If int and \"stop\" is not given, interpreted as \"stop\" instead.\n",
      "    stop : int (default: 0)\n",
      "    step : int (default: 1)\n",
      "    dtype : np.int64\n",
      "        Unused, accepted for homogeneity with other index types.\n",
      "    copy : bool, default False\n",
      "        Unused, accepted for homogeneity with other index types.\n",
      "    name : object, optional\n",
      "        Name to be stored in the index.\n",
      "\n",
      "    Attributes\n",
      "    ----------\n",
      "    start\n",
      "    stop\n",
      "    step\n",
      "\n",
      "    Methods\n",
      "    -------\n",
      "    from_range\n",
      "\n",
      "    See Also\n",
      "    --------\n",
      "    Index : The base pandas Index type.\n",
      "    Int64Index : Index of int64 data.\n",
      "    \n"
     ]
    },
    {
     "data": {
      "text/plain": [
       "7"
      ]
     },
     "execution_count": 1,
     "metadata": {},
     "output_type": "execute_result"
    }
   ],
   "source": [
    "import pandas as pd\n",
    "import numpy as np\n",
    "\n",
    "\n",
    "# ****************** Series *****************************\n",
    "# Значения - values и индекс index\n",
    "# Создание из списка\n",
    "B = pd.Series([4, 7, -5, 3])\n",
    "print(B,'\\n')\n",
    "# Две компоненты\n",
    "B.values # np.ndaray\n",
    "B.index #  Свой класс\n",
    "type(B.index) # RangeIndex\n",
    "dir(B.index)\n",
    "print(B.index.__doc__)\n",
    "B.index.start\n",
    "B.index.values # np.ndarray\n",
    "# Превращаем в массив и в список\n",
    "np.array(B.index)\n",
    "list(B.index) \n",
    "B[1]"
   ]
  },
  {
   "cell_type": "code",
   "execution_count": 8,
   "id": "8e14952c",
   "metadata": {},
   "outputs": [
    {
     "data": {
      "text/plain": [
       "array([0, 1, 2, 3], dtype=int64)"
      ]
     },
     "execution_count": 8,
     "metadata": {},
     "output_type": "execute_result"
    }
   ],
   "source": [
    "B.index.values"
   ]
  },
  {
   "cell_type": "code",
   "execution_count": 9,
   "id": "0ddb2d7d",
   "metadata": {},
   "outputs": [
    {
     "name": "stdout",
     "output_type": "stream",
     "text": [
      "\n",
      "    Immutable sequence used for indexing and alignment. The basic object\n",
      "    storing axis labels for all pandas objects.\n",
      "\n",
      "    Parameters\n",
      "    ----------\n",
      "    data : array-like (1-dimensional)\n",
      "    dtype : NumPy dtype (default: object)\n",
      "        If dtype is None, we find the dtype that best fits the data.\n",
      "        If an actual dtype is provided, we coerce to that dtype if it's safe.\n",
      "        Otherwise, an error will be raised.\n",
      "    copy : bool\n",
      "        Make a copy of input ndarray.\n",
      "    name : object\n",
      "        Name to be stored in the index.\n",
      "    tupleize_cols : bool (default: True)\n",
      "        When True, attempt to create a MultiIndex if possible.\n",
      "\n",
      "    See Also\n",
      "    --------\n",
      "    RangeIndex : Index implementing a monotonic integer range.\n",
      "    CategoricalIndex : Index of :class:`Categorical` s.\n",
      "    MultiIndex : A multi-level, or hierarchical Index.\n",
      "    IntervalIndex : An Index of :class:`Interval` s.\n",
      "    DatetimeIndex : Index of datetime64 data.\n",
      "    TimedeltaIndex : Index of timedelta64 data.\n",
      "    PeriodIndex : Index of Period data.\n",
      "    NumericIndex : Index of numpy int/uint/float data.\n",
      "    Int64Index : Index of purely int64 labels (deprecated).\n",
      "    UInt64Index : Index of purely uint64 labels (deprecated).\n",
      "    Float64Index : Index of  purely float64 labels (deprecated).\n",
      "\n",
      "    Notes\n",
      "    -----\n",
      "    An Index instance can **only** contain hashable objects\n",
      "\n",
      "    Examples\n",
      "    --------\n",
      "    >>> pd.Index([1, 2, 3])\n",
      "    Int64Index([1, 2, 3], dtype='int64')\n",
      "\n",
      "    >>> pd.Index(list('abc'))\n",
      "    Index(['a', 'b', 'c'], dtype='object')\n",
      "    \n",
      "d    4\n",
      "b    7\n",
      "a   -5\n",
      "c    3\n",
      "dtype: int64 \n",
      "\n"
     ]
    },
    {
     "data": {
      "text/plain": [
       "-5"
      ]
     },
     "execution_count": 9,
     "metadata": {},
     "output_type": "execute_result"
    }
   ],
   "source": [
    "# Задание своего индекса\n",
    "z = pd.Index(['a', 'b', 'c', 'd']) # Делаем сами \n",
    "B.index = z\n",
    "# Индекс при создании\n",
    "D = pd.Series([4, 7, -5, 3], index = ['d', 'b', 'a', 'c']) \n",
    "print(D.index.__doc__)\n",
    "print(D,'\\n')\n",
    "D.index.values\n",
    "np.array(D.index)\n",
    "D['a']"
   ]
  },
  {
   "cell_type": "code",
   "execution_count": 11,
   "id": "d53c7907",
   "metadata": {},
   "outputs": [
    {
     "name": "stdout",
     "output_type": "stream",
     "text": [
      "RangeIndex(start=0, stop=2, step=1) RangeIndex(start=0, stop=2, step=1)\n"
     ]
    }
   ],
   "source": [
    "# Создание из списка списков\n",
    "F1 = pd.DataFrame([[1, 2], [3,4]]) \n",
    "# Основные атрибуты\n",
    "print(F1.index, F1.columns) # Два индекса\n",
    "F1.dtypes\n",
    "F1.values\n",
    "\n",
    "# Создание из словаря\n",
    "W1 = {'year':[2000, 2001, 2002, 2001, 2002],\n",
    "'pop':[1.5, 1.7, 3.6, 2.4, 2.9], 'inc':[200, 340, 450, 236, 123], \n",
    "'tp':['a1' ,'b2' ,'a1', 'b1', 'a1']}\n",
    "F2 = pd.DataFrame(W1, index=['A', 'A', 'A' , 'B' , 'B'])"
   ]
  },
  {
   "cell_type": "code",
   "execution_count": 23,
   "id": "4a77d863",
   "metadata": {},
   "outputs": [
    {
     "data": {
      "text/html": [
       "<div>\n",
       "<style scoped>\n",
       "    .dataframe tbody tr th:only-of-type {\n",
       "        vertical-align: middle;\n",
       "    }\n",
       "\n",
       "    .dataframe tbody tr th {\n",
       "        vertical-align: top;\n",
       "    }\n",
       "\n",
       "    .dataframe thead th {\n",
       "        text-align: right;\n",
       "    }\n",
       "</style>\n",
       "<table border=\"1\" class=\"dataframe\">\n",
       "  <thead>\n",
       "    <tr style=\"text-align: right;\">\n",
       "      <th></th>\n",
       "      <th>year</th>\n",
       "      <th>pop</th>\n",
       "      <th>inc</th>\n",
       "      <th>tp</th>\n",
       "    </tr>\n",
       "  </thead>\n",
       "  <tbody>\n",
       "    <tr>\n",
       "      <th>A</th>\n",
       "      <td>2000</td>\n",
       "      <td>1.5</td>\n",
       "      <td>200</td>\n",
       "      <td>a1</td>\n",
       "    </tr>\n",
       "    <tr>\n",
       "      <th>A</th>\n",
       "      <td>2001</td>\n",
       "      <td>1.7</td>\n",
       "      <td>340</td>\n",
       "      <td>b2</td>\n",
       "    </tr>\n",
       "    <tr>\n",
       "      <th>A</th>\n",
       "      <td>2002</td>\n",
       "      <td>3.6</td>\n",
       "      <td>450</td>\n",
       "      <td>a1</td>\n",
       "    </tr>\n",
       "    <tr>\n",
       "      <th>B</th>\n",
       "      <td>2001</td>\n",
       "      <td>2.4</td>\n",
       "      <td>236</td>\n",
       "      <td>b1</td>\n",
       "    </tr>\n",
       "    <tr>\n",
       "      <th>B</th>\n",
       "      <td>2002</td>\n",
       "      <td>2.9</td>\n",
       "      <td>123</td>\n",
       "      <td>a1</td>\n",
       "    </tr>\n",
       "  </tbody>\n",
       "</table>\n",
       "</div>"
      ],
      "text/plain": [
       "   year  pop  inc  tp\n",
       "A  2000  1.5  200  a1\n",
       "A  2001  1.7  340  b2\n",
       "A  2002  3.6  450  a1\n",
       "B  2001  2.4  236  b1\n",
       "B  2002  2.9  123  a1"
      ]
     },
     "execution_count": 23,
     "metadata": {},
     "output_type": "execute_result"
    }
   ],
   "source": [
    "F2"
   ]
  },
  {
   "cell_type": "code",
   "execution_count": 2,
   "id": "7a9ab13f",
   "metadata": {},
   "outputs": [
    {
     "data": {
      "text/html": [
       "<div>\n",
       "<style scoped>\n",
       "    .dataframe tbody tr th:only-of-type {\n",
       "        vertical-align: middle;\n",
       "    }\n",
       "\n",
       "    .dataframe tbody tr th {\n",
       "        vertical-align: top;\n",
       "    }\n",
       "\n",
       "    .dataframe thead th {\n",
       "        text-align: right;\n",
       "    }\n",
       "</style>\n",
       "<table border=\"1\" class=\"dataframe\">\n",
       "  <thead>\n",
       "    <tr style=\"text-align: right;\">\n",
       "      <th></th>\n",
       "      <th>ID_ВАК</th>\n",
       "      <th>ЗАР_ПЛАТ</th>\n",
       "      <th>ТРЕБ_НАВ</th>\n",
       "      <th>ТРЕБ_ОП</th>\n",
       "      <th>РЕЖ_РАБ</th>\n",
       "      <th>ФОРМ_ЗАН</th>\n",
       "    </tr>\n",
       "  </thead>\n",
       "  <tbody>\n",
       "    <tr>\n",
       "      <th>0</th>\n",
       "      <td>1</td>\n",
       "      <td>114040</td>\n",
       "      <td>numpy,excel,python</td>\n",
       "      <td>от 5 лет</td>\n",
       "      <td>Полный рабочий день</td>\n",
       "      <td>Гибрид</td>\n",
       "    </tr>\n",
       "    <tr>\n",
       "      <th>1</th>\n",
       "      <td>2</td>\n",
       "      <td>268128</td>\n",
       "      <td>excel,pandas,Unreal Engine 5,python,numpy,java...</td>\n",
       "      <td>Нет опыта</td>\n",
       "      <td>4 часа в день</td>\n",
       "      <td>Гибрид</td>\n",
       "    </tr>\n",
       "    <tr>\n",
       "      <th>2</th>\n",
       "      <td>3</td>\n",
       "      <td>114674</td>\n",
       "      <td>python</td>\n",
       "      <td>1-3 года</td>\n",
       "      <td>4 часа в день</td>\n",
       "      <td>Удаленная работа</td>\n",
       "    </tr>\n",
       "    <tr>\n",
       "      <th>3</th>\n",
       "      <td>4</td>\n",
       "      <td>258110</td>\n",
       "      <td>numpy,excel,python,c++</td>\n",
       "      <td>1-3 года</td>\n",
       "      <td>4 часа в день</td>\n",
       "      <td>Гибрид</td>\n",
       "    </tr>\n",
       "    <tr>\n",
       "      <th>4</th>\n",
       "      <td>5</td>\n",
       "      <td>81481</td>\n",
       "      <td>python</td>\n",
       "      <td>Нет опыта</td>\n",
       "      <td>Полный рабочий день</td>\n",
       "      <td>Офис</td>\n",
       "    </tr>\n",
       "    <tr>\n",
       "      <th>...</th>\n",
       "      <td>...</td>\n",
       "      <td>...</td>\n",
       "      <td>...</td>\n",
       "      <td>...</td>\n",
       "      <td>...</td>\n",
       "      <td>...</td>\n",
       "    </tr>\n",
       "    <tr>\n",
       "      <th>4995</th>\n",
       "      <td>4996</td>\n",
       "      <td>95497</td>\n",
       "      <td>excel,pandas,python,numpy,java,c++</td>\n",
       "      <td>Нет опыта</td>\n",
       "      <td>Полный рабочий день</td>\n",
       "      <td>Удаленная работа</td>\n",
       "    </tr>\n",
       "    <tr>\n",
       "      <th>4996</th>\n",
       "      <td>4997</td>\n",
       "      <td>204142</td>\n",
       "      <td>numpy,excel,python,c++</td>\n",
       "      <td>1-3 года</td>\n",
       "      <td>4 часа в день</td>\n",
       "      <td>Гибрид</td>\n",
       "    </tr>\n",
       "    <tr>\n",
       "      <th>4997</th>\n",
       "      <td>4998</td>\n",
       "      <td>123117</td>\n",
       "      <td>numpy,excel,python</td>\n",
       "      <td>1-3 года</td>\n",
       "      <td>4 часа в день</td>\n",
       "      <td>Офис</td>\n",
       "    </tr>\n",
       "    <tr>\n",
       "      <th>4998</th>\n",
       "      <td>4999</td>\n",
       "      <td>69222</td>\n",
       "      <td>numpy,python</td>\n",
       "      <td>Нет опыта</td>\n",
       "      <td>4 часа в день</td>\n",
       "      <td>Офис</td>\n",
       "    </tr>\n",
       "    <tr>\n",
       "      <th>4999</th>\n",
       "      <td>5000</td>\n",
       "      <td>70357</td>\n",
       "      <td>numpy,python</td>\n",
       "      <td>Нет опыта</td>\n",
       "      <td>Полный рабочий день</td>\n",
       "      <td>Гибрид</td>\n",
       "    </tr>\n",
       "  </tbody>\n",
       "</table>\n",
       "<p>5000 rows × 6 columns</p>\n",
       "</div>"
      ],
      "text/plain": [
       "      ID_ВАК  ЗАР_ПЛАТ                                           ТРЕБ_НАВ  \\\n",
       "0          1    114040                                 numpy,excel,python   \n",
       "1          2    268128  excel,pandas,Unreal Engine 5,python,numpy,java...   \n",
       "2          3    114674                                             python   \n",
       "3          4    258110                             numpy,excel,python,c++   \n",
       "4          5     81481                                             python   \n",
       "...      ...       ...                                                ...   \n",
       "4995    4996     95497                 excel,pandas,python,numpy,java,c++   \n",
       "4996    4997    204142                             numpy,excel,python,c++   \n",
       "4997    4998    123117                                 numpy,excel,python   \n",
       "4998    4999     69222                                       numpy,python   \n",
       "4999    5000     70357                                       numpy,python   \n",
       "\n",
       "        ТРЕБ_ОП              РЕЖ_РАБ          ФОРМ_ЗАН  \n",
       "0      от 5 лет  Полный рабочий день            Гибрид  \n",
       "1     Нет опыта        4 часа в день            Гибрид  \n",
       "2      1-3 года        4 часа в день  Удаленная работа  \n",
       "3      1-3 года        4 часа в день            Гибрид  \n",
       "4     Нет опыта  Полный рабочий день              Офис  \n",
       "...         ...                  ...               ...  \n",
       "4995  Нет опыта  Полный рабочий день  Удаленная работа  \n",
       "4996   1-3 года        4 часа в день            Гибрид  \n",
       "4997   1-3 года        4 часа в день              Офис  \n",
       "4998  Нет опыта        4 часа в день              Офис  \n",
       "4999  Нет опыта  Полный рабочий день            Гибрид  \n",
       "\n",
       "[5000 rows x 6 columns]"
      ]
     },
     "execution_count": 2,
     "metadata": {},
     "output_type": "execute_result"
    }
   ],
   "source": [
    "import os\n",
    "import pandas as pd\n",
    "\n",
    "\n",
    "df_AboutVacancy = pd.read_csv(\"C:\\work\\data\\овакансии1.csv\", sep=\";\")\n",
    "\n",
    "df_AboutVacancy"
   ]
  },
  {
   "cell_type": "code",
   "execution_count": null,
   "id": "e07acb8c",
   "metadata": {},
   "outputs": [],
   "source": []
  }
 ],
 "metadata": {
  "kernelspec": {
   "display_name": "Python 3 (ipykernel)",
   "language": "python",
   "name": "python3"
  },
  "language_info": {
   "codemirror_mode": {
    "name": "ipython",
    "version": 3
   },
   "file_extension": ".py",
   "mimetype": "text/x-python",
   "name": "python",
   "nbconvert_exporter": "python",
   "pygments_lexer": "ipython3",
   "version": "3.9.13"
  }
 },
 "nbformat": 4,
 "nbformat_minor": 5
}
